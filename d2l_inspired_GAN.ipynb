{
  "nbformat": 4,
  "nbformat_minor": 0,
  "metadata": {
    "colab": {
      "provenance": []
    },
    "kernelspec": {
      "name": "python3",
      "display_name": "Python 3"
    },
    "language_info": {
      "name": "python"
    }
  },
  "cells": [
    {
      "cell_type": "code",
      "source": [
        "from matplotlib_inline import backend_inline\n",
        "import time\n",
        "\n",
        "class Timer:\n",
        "    \"\"\"Record multiple running times.\"\"\"\n",
        "    def __init__(self):\n",
        "        self.times = []\n",
        "        self.start()\n",
        "\n",
        "    def start(self):\n",
        "        \"\"\"Start the timer.\"\"\"\n",
        "        self.tik = time.time()\n",
        "\n",
        "    def stop(self):\n",
        "        \"\"\"Stop the timer and record the time in a list.\"\"\"\n",
        "        self.times.append(time.time() - self.tik)\n",
        "        return self.times[-1]\n",
        "\n",
        "    def avg(self):\n",
        "        \"\"\"Return the average time.\"\"\"\n",
        "        return sum(self.times) / len(self.times)\n",
        "\n",
        "    def sum(self):\n",
        "        \"\"\"Return the sum of time.\"\"\"\n",
        "        return sum(self.times)\n",
        "\n",
        "    def cumsum(self):\n",
        "        \"\"\"Return the accumulated time.\"\"\"\n",
        "        return np.array(self.times).cumsum().tolist()\n",
        "\n",
        "class Accumulator:\n",
        "    \"\"\"For accumulating sums over `n` variables.\"\"\"\n",
        "    def __init__(self, n):\n",
        "        self.data = [0.0] * n\n",
        "\n",
        "    def add(self, *args):\n",
        "        self.data = [a + float(b) for a, b in zip(self.data, args)]\n",
        "\n",
        "    def reset(self):\n",
        "        self.data = [0.0] * len(self.data)\n",
        "\n",
        "    def __getitem__(self, idx):\n",
        "        return self.data[idx]\n",
        "\n",
        "class Animator:\n",
        "    \"\"\"For plotting data in animation.\"\"\"\n",
        "    def __init__(self, xlabel=None, ylabel=None, legend=None, xlim=None,\n",
        "                 ylim=None, xscale='linear', yscale='linear',\n",
        "                 fmts=('-', 'm--', 'g-.', 'r:'), nrows=1, ncols=1,\n",
        "                 figsize=(3.5, 2.5)):\n",
        "        # Incrementally plot multiple lines\n",
        "        if legend is None:\n",
        "            legend = []\n",
        "        use_svg_display()\n",
        "        self.fig, self.axes = plt.subplots(nrows, ncols, figsize=figsize)\n",
        "        if nrows * ncols == 1:\n",
        "            self.axes = [self.axes, ]\n",
        "        # Use a lambda function to capture arguments\n",
        "        self.config_axes = lambda: set_axes(\n",
        "            self.axes[0], xlabel, ylabel, xlim, ylim, xscale, yscale, legend)\n",
        "        self.X, self.Y, self.fmts = None, None, fmts\n",
        "\n",
        "    def add(self, x, y):\n",
        "        # Add data points to the plot\n",
        "        if not hasattr(self, 'plots'):\n",
        "            self.plots = []\n",
        "            for _ in range(len(y)):\n",
        "                self.plots.append(self.axes[0].plot([], [], self.fmts[_ % len(self.fmts)])[0])\n",
        "        for i, yi in enumerate(y):\n",
        "            self.X[i].append(x)\n",
        "            self.Y[i].append(yi)\n",
        "            self.plots[i].set_data(self.X[i], self.Y[i])\n",
        "        self.axes[0].relim()\n",
        "        self.axes[0].autoscale_view()\n",
        "        self.fig.canvas.draw()\n",
        "\n",
        "\n",
        "\n",
        "def load_array(data_arrays, batch_size, is_train=True):\n",
        "    \"\"\"Construct a TensorFlow data iterator.\"\"\"\n",
        "    dataset = tf.data.Dataset.from_tensor_slices(data_arrays)\n",
        "    if is_train:\n",
        "        dataset = dataset.shuffle(buffer_size=1000)\n",
        "    dataset = dataset.batch(batch_size)\n",
        "    return dataset\n",
        "\n",
        "def use_svg_display():\n",
        "    \"\"\"Use the svg format to display a plot in Jupyter.\"\"\"\n",
        "    backend_inline.set_matplotlib_formats('svg')\n",
        "\n",
        "def set_axes(axes, xlabel, ylabel, xlim, ylim, xscale, yscale, legend):\n",
        "    \"\"\"Set the axes for matplotlib.\"\"\"\n",
        "    axes.set_xlabel(xlabel), axes.set_ylabel(ylabel)\n",
        "    axes.set_xscale(xscale), axes.set_yscale(yscale)\n",
        "    axes.set_xlim(xlim), axes.set_ylim(ylim)\n",
        "    if legend:\n",
        "        axes.legend(legend)\n",
        "    axes.grid()\n"
      ],
      "metadata": {
        "id": "DZPv9LdD5A9N"
      },
      "execution_count": null,
      "outputs": []
    },
    {
      "cell_type": "code",
      "execution_count": null,
      "metadata": {
        "id": "OQQQuGloygSH"
      },
      "outputs": [],
      "source": [
        "import tensorflow as tf\n",
        "import numpy as np\n",
        "import matplotlib.pyplot as plt"
      ]
    },
    {
      "cell_type": "code",
      "source": [
        "X = tf.random.normal((1000, 2), 0.0, 1)\n",
        "A = tf.constant([[1, 2], [-0.1, 0.5]])\n",
        "b = tf.constant([1, 2], tf.float32)\n",
        "data = tf.matmul(X, A) + b"
      ],
      "metadata": {
        "id": "wP86Np681A3s"
      },
      "execution_count": null,
      "outputs": []
    },
    {
      "cell_type": "code",
      "source": [
        "plt.scatter(data[:100, 0].numpy(), data[:100, 1].numpy());\n",
        "print(f'The covariance matrix is\\n{tf.matmul(A, A, transpose_a=True)}')"
      ],
      "metadata": {
        "colab": {
          "base_uri": "https://localhost:8080/",
          "height": 470
        },
        "id": "oHt1o_bH1HaW",
        "outputId": "fddf01eb-7de3-4154-85fe-dd2f54b49f2f"
      },
      "execution_count": null,
      "outputs": [
        {
          "output_type": "stream",
          "name": "stdout",
          "text": [
            "The covariance matrix is\n",
            "[[1.01 1.95]\n",
            " [1.95 4.25]]\n"
          ]
        },
        {
          "output_type": "display_data",
          "data": {
            "text/plain": [
              "<Figure size 640x480 with 1 Axes>"
            ],
            "image/svg+xml": "<?xml version=\"1.0\" encoding=\"utf-8\" standalone=\"no\"?>\n<!DOCTYPE svg PUBLIC \"-//W3C//DTD SVG 1.1//EN\"\n  \"http://www.w3.org/Graphics/SVG/1.1/DTD/svg11.dtd\">\n<svg xmlns:xlink=\"http://www.w3.org/1999/xlink\" width=\"393.262187pt\" height=\"297.190125pt\" viewBox=\"0 0 393.262187 297.190125\" xmlns=\"http://www.w3.org/2000/svg\" version=\"1.1\">\n <metadata>\n  <rdf:RDF xmlns:dc=\"http://purl.org/dc/elements/1.1/\" xmlns:cc=\"http://creativecommons.org/ns#\" xmlns:rdf=\"http://www.w3.org/1999/02/22-rdf-syntax-ns#\">\n   <cc:Work>\n    <dc:type rdf:resource=\"http://purl.org/dc/dcmitype/StillImage\"/>\n    <dc:date>2024-02-11T12:28:42.450367</dc:date>\n    <dc:format>image/svg+xml</dc:format>\n    <dc:creator>\n     <cc:Agent>\n      <dc:title>Matplotlib v3.7.1, https://matplotlib.org/</dc:title>\n     </cc:Agent>\n    </dc:creator>\n   </cc:Work>\n  </rdf:RDF>\n </metadata>\n <defs>\n  <style type=\"text/css\">*{stroke-linejoin: round; stroke-linecap: butt}</style>\n </defs>\n <g id=\"figure_1\">\n  <g id=\"patch_1\">\n   <path d=\"M 0 297.190125 \nL 393.262187 297.190125 \nL 393.262187 0 \nL 0 0 \nz\n\" style=\"fill: #ffffff\"/>\n  </g>\n  <g id=\"axes_1\">\n   <g id=\"patch_2\">\n    <path d=\"M 28.942188 273.312 \nL 386.062188 273.312 \nL 386.062188 7.2 \nL 28.942188 7.2 \nz\n\" style=\"fill: #ffffff\"/>\n   </g>\n   <g id=\"PathCollection_1\">\n    <defs>\n     <path id=\"m68c9d91da8\" d=\"M 0 3 \nC 0.795609 3 1.55874 2.683901 2.12132 2.12132 \nC 2.683901 1.55874 3 0.795609 3 0 \nC 3 -0.795609 2.683901 -1.55874 2.12132 -2.12132 \nC 1.55874 -2.683901 0.795609 -3 0 -3 \nC -0.795609 -3 -1.55874 -2.683901 -2.12132 -2.12132 \nC -2.683901 -1.55874 -3 -0.795609 -3 0 \nC -3 0.795609 -2.683901 1.55874 -2.12132 2.12132 \nC -1.55874 2.683901 -0.795609 3 0 3 \nz\n\" style=\"stroke: #1f77b4\"/>\n    </defs>\n    <g clip-path=\"url(#p66aa8fef65)\">\n     <use xlink:href=\"#m68c9d91da8\" x=\"190.74467\" y=\"156.300571\" style=\"fill: #1f77b4; stroke: #1f77b4\"/>\n     <use xlink:href=\"#m68c9d91da8\" x=\"290.072476\" y=\"50.562522\" style=\"fill: #1f77b4; stroke: #1f77b4\"/>\n     <use xlink:href=\"#m68c9d91da8\" x=\"209.107372\" y=\"88.940835\" style=\"fill: #1f77b4; stroke: #1f77b4\"/>\n     <use xlink:href=\"#m68c9d91da8\" x=\"244.548551\" y=\"121.228169\" style=\"fill: #1f77b4; stroke: #1f77b4\"/>\n     <use xlink:href=\"#m68c9d91da8\" x=\"96.174132\" y=\"207.614974\" style=\"fill: #1f77b4; stroke: #1f77b4\"/>\n     <use xlink:href=\"#m68c9d91da8\" x=\"193.315258\" y=\"135.977476\" style=\"fill: #1f77b4; stroke: #1f77b4\"/>\n     <use xlink:href=\"#m68c9d91da8\" x=\"231.60871\" y=\"135.902468\" style=\"fill: #1f77b4; stroke: #1f77b4\"/>\n     <use xlink:href=\"#m68c9d91da8\" x=\"246.036613\" y=\"107.729054\" style=\"fill: #1f77b4; stroke: #1f77b4\"/>\n     <use xlink:href=\"#m68c9d91da8\" x=\"324.322185\" y=\"25.348079\" style=\"fill: #1f77b4; stroke: #1f77b4\"/>\n     <use xlink:href=\"#m68c9d91da8\" x=\"173.412709\" y=\"133.03092\" style=\"fill: #1f77b4; stroke: #1f77b4\"/>\n     <use xlink:href=\"#m68c9d91da8\" x=\"159.188138\" y=\"173.987225\" style=\"fill: #1f77b4; stroke: #1f77b4\"/>\n     <use xlink:href=\"#m68c9d91da8\" x=\"294.874456\" y=\"77.489799\" style=\"fill: #1f77b4; stroke: #1f77b4\"/>\n     <use xlink:href=\"#m68c9d91da8\" x=\"192.019284\" y=\"140.472291\" style=\"fill: #1f77b4; stroke: #1f77b4\"/>\n     <use xlink:href=\"#m68c9d91da8\" x=\"74.38644\" y=\"230.545574\" style=\"fill: #1f77b4; stroke: #1f77b4\"/>\n     <use xlink:href=\"#m68c9d91da8\" x=\"248.126697\" y=\"95.214458\" style=\"fill: #1f77b4; stroke: #1f77b4\"/>\n     <use xlink:href=\"#m68c9d91da8\" x=\"199.995928\" y=\"157.100591\" style=\"fill: #1f77b4; stroke: #1f77b4\"/>\n     <use xlink:href=\"#m68c9d91da8\" x=\"266.163164\" y=\"71.393293\" style=\"fill: #1f77b4; stroke: #1f77b4\"/>\n     <use xlink:href=\"#m68c9d91da8\" x=\"198.195795\" y=\"113.585985\" style=\"fill: #1f77b4; stroke: #1f77b4\"/>\n     <use xlink:href=\"#m68c9d91da8\" x=\"266.700181\" y=\"79.994402\" style=\"fill: #1f77b4; stroke: #1f77b4\"/>\n     <use xlink:href=\"#m68c9d91da8\" x=\"127.603193\" y=\"201.592474\" style=\"fill: #1f77b4; stroke: #1f77b4\"/>\n     <use xlink:href=\"#m68c9d91da8\" x=\"267.806256\" y=\"74.348071\" style=\"fill: #1f77b4; stroke: #1f77b4\"/>\n     <use xlink:href=\"#m68c9d91da8\" x=\"127.499682\" y=\"206.586137\" style=\"fill: #1f77b4; stroke: #1f77b4\"/>\n     <use xlink:href=\"#m68c9d91da8\" x=\"172.428102\" y=\"165.685889\" style=\"fill: #1f77b4; stroke: #1f77b4\"/>\n     <use xlink:href=\"#m68c9d91da8\" x=\"192.571759\" y=\"175.43502\" style=\"fill: #1f77b4; stroke: #1f77b4\"/>\n     <use xlink:href=\"#m68c9d91da8\" x=\"235.203136\" y=\"131.007286\" style=\"fill: #1f77b4; stroke: #1f77b4\"/>\n     <use xlink:href=\"#m68c9d91da8\" x=\"369.82946\" y=\"20.46004\" style=\"fill: #1f77b4; stroke: #1f77b4\"/>\n     <use xlink:href=\"#m68c9d91da8\" x=\"245.103979\" y=\"129.429361\" style=\"fill: #1f77b4; stroke: #1f77b4\"/>\n     <use xlink:href=\"#m68c9d91da8\" x=\"154.86748\" y=\"166.928868\" style=\"fill: #1f77b4; stroke: #1f77b4\"/>\n     <use xlink:href=\"#m68c9d91da8\" x=\"166.47705\" y=\"170.440023\" style=\"fill: #1f77b4; stroke: #1f77b4\"/>\n     <use xlink:href=\"#m68c9d91da8\" x=\"304.063138\" y=\"47.902562\" style=\"fill: #1f77b4; stroke: #1f77b4\"/>\n     <use xlink:href=\"#m68c9d91da8\" x=\"149.856078\" y=\"188.102573\" style=\"fill: #1f77b4; stroke: #1f77b4\"/>\n     <use xlink:href=\"#m68c9d91da8\" x=\"45.174915\" y=\"261.216\" style=\"fill: #1f77b4; stroke: #1f77b4\"/>\n     <use xlink:href=\"#m68c9d91da8\" x=\"235.616903\" y=\"131.338657\" style=\"fill: #1f77b4; stroke: #1f77b4\"/>\n     <use xlink:href=\"#m68c9d91da8\" x=\"315.503976\" y=\"75.538666\" style=\"fill: #1f77b4; stroke: #1f77b4\"/>\n     <use xlink:href=\"#m68c9d91da8\" x=\"202.054932\" y=\"122.938163\" style=\"fill: #1f77b4; stroke: #1f77b4\"/>\n     <use xlink:href=\"#m68c9d91da8\" x=\"139.952441\" y=\"199.716413\" style=\"fill: #1f77b4; stroke: #1f77b4\"/>\n     <use xlink:href=\"#m68c9d91da8\" x=\"157.767599\" y=\"190.942266\" style=\"fill: #1f77b4; stroke: #1f77b4\"/>\n     <use xlink:href=\"#m68c9d91da8\" x=\"183.493732\" y=\"153.072914\" style=\"fill: #1f77b4; stroke: #1f77b4\"/>\n     <use xlink:href=\"#m68c9d91da8\" x=\"206.49794\" y=\"143.455242\" style=\"fill: #1f77b4; stroke: #1f77b4\"/>\n     <use xlink:href=\"#m68c9d91da8\" x=\"304.648813\" y=\"68.233014\" style=\"fill: #1f77b4; stroke: #1f77b4\"/>\n     <use xlink:href=\"#m68c9d91da8\" x=\"309.728777\" y=\"60.502279\" style=\"fill: #1f77b4; stroke: #1f77b4\"/>\n     <use xlink:href=\"#m68c9d91da8\" x=\"158.596223\" y=\"139.154355\" style=\"fill: #1f77b4; stroke: #1f77b4\"/>\n     <use xlink:href=\"#m68c9d91da8\" x=\"234.528555\" y=\"108.509874\" style=\"fill: #1f77b4; stroke: #1f77b4\"/>\n     <use xlink:href=\"#m68c9d91da8\" x=\"116.769854\" y=\"200.386871\" style=\"fill: #1f77b4; stroke: #1f77b4\"/>\n     <use xlink:href=\"#m68c9d91da8\" x=\"336.330667\" y=\"44.322835\" style=\"fill: #1f77b4; stroke: #1f77b4\"/>\n     <use xlink:href=\"#m68c9d91da8\" x=\"337.616876\" y=\"19.296\" style=\"fill: #1f77b4; stroke: #1f77b4\"/>\n     <use xlink:href=\"#m68c9d91da8\" x=\"183.372447\" y=\"144.05039\" style=\"fill: #1f77b4; stroke: #1f77b4\"/>\n     <use xlink:href=\"#m68c9d91da8\" x=\"246.466581\" y=\"103.378345\" style=\"fill: #1f77b4; stroke: #1f77b4\"/>\n     <use xlink:href=\"#m68c9d91da8\" x=\"136.300157\" y=\"184.284924\" style=\"fill: #1f77b4; stroke: #1f77b4\"/>\n     <use xlink:href=\"#m68c9d91da8\" x=\"205.302735\" y=\"114.855576\" style=\"fill: #1f77b4; stroke: #1f77b4\"/>\n     <use xlink:href=\"#m68c9d91da8\" x=\"210.027503\" y=\"129.731099\" style=\"fill: #1f77b4; stroke: #1f77b4\"/>\n     <use xlink:href=\"#m68c9d91da8\" x=\"249.966164\" y=\"106.577932\" style=\"fill: #1f77b4; stroke: #1f77b4\"/>\n     <use xlink:href=\"#m68c9d91da8\" x=\"236.965487\" y=\"98.665337\" style=\"fill: #1f77b4; stroke: #1f77b4\"/>\n     <use xlink:href=\"#m68c9d91da8\" x=\"246.743657\" y=\"116.599045\" style=\"fill: #1f77b4; stroke: #1f77b4\"/>\n     <use xlink:href=\"#m68c9d91da8\" x=\"132.702081\" y=\"154.253852\" style=\"fill: #1f77b4; stroke: #1f77b4\"/>\n     <use xlink:href=\"#m68c9d91da8\" x=\"237.892045\" y=\"105.954956\" style=\"fill: #1f77b4; stroke: #1f77b4\"/>\n     <use xlink:href=\"#m68c9d91da8\" x=\"223.332962\" y=\"115.004989\" style=\"fill: #1f77b4; stroke: #1f77b4\"/>\n     <use xlink:href=\"#m68c9d91da8\" x=\"131.246692\" y=\"166.308221\" style=\"fill: #1f77b4; stroke: #1f77b4\"/>\n     <use xlink:href=\"#m68c9d91da8\" x=\"229.408487\" y=\"132.80898\" style=\"fill: #1f77b4; stroke: #1f77b4\"/>\n     <use xlink:href=\"#m68c9d91da8\" x=\"189.542567\" y=\"130.031709\" style=\"fill: #1f77b4; stroke: #1f77b4\"/>\n     <use xlink:href=\"#m68c9d91da8\" x=\"169.268408\" y=\"160.590562\" style=\"fill: #1f77b4; stroke: #1f77b4\"/>\n     <use xlink:href=\"#m68c9d91da8\" x=\"138.213269\" y=\"187.789507\" style=\"fill: #1f77b4; stroke: #1f77b4\"/>\n     <use xlink:href=\"#m68c9d91da8\" x=\"228.145838\" y=\"123.752944\" style=\"fill: #1f77b4; stroke: #1f77b4\"/>\n     <use xlink:href=\"#m68c9d91da8\" x=\"222.263926\" y=\"107.69361\" style=\"fill: #1f77b4; stroke: #1f77b4\"/>\n     <use xlink:href=\"#m68c9d91da8\" x=\"232.562208\" y=\"114.414997\" style=\"fill: #1f77b4; stroke: #1f77b4\"/>\n     <use xlink:href=\"#m68c9d91da8\" x=\"155.160909\" y=\"168.923079\" style=\"fill: #1f77b4; stroke: #1f77b4\"/>\n     <use xlink:href=\"#m68c9d91da8\" x=\"292.337992\" y=\"61.167472\" style=\"fill: #1f77b4; stroke: #1f77b4\"/>\n     <use xlink:href=\"#m68c9d91da8\" x=\"215.431646\" y=\"129.548721\" style=\"fill: #1f77b4; stroke: #1f77b4\"/>\n     <use xlink:href=\"#m68c9d91da8\" x=\"144.704192\" y=\"179.428467\" style=\"fill: #1f77b4; stroke: #1f77b4\"/>\n     <use xlink:href=\"#m68c9d91da8\" x=\"225.138999\" y=\"147.231608\" style=\"fill: #1f77b4; stroke: #1f77b4\"/>\n     <use xlink:href=\"#m68c9d91da8\" x=\"299.609196\" y=\"68.112835\" style=\"fill: #1f77b4; stroke: #1f77b4\"/>\n     <use xlink:href=\"#m68c9d91da8\" x=\"257.479252\" y=\"103.398597\" style=\"fill: #1f77b4; stroke: #1f77b4\"/>\n     <use xlink:href=\"#m68c9d91da8\" x=\"305.914139\" y=\"53.910862\" style=\"fill: #1f77b4; stroke: #1f77b4\"/>\n     <use xlink:href=\"#m68c9d91da8\" x=\"202.843706\" y=\"150.272617\" style=\"fill: #1f77b4; stroke: #1f77b4\"/>\n     <use xlink:href=\"#m68c9d91da8\" x=\"310.187927\" y=\"61.757851\" style=\"fill: #1f77b4; stroke: #1f77b4\"/>\n     <use xlink:href=\"#m68c9d91da8\" x=\"295.323769\" y=\"68.741604\" style=\"fill: #1f77b4; stroke: #1f77b4\"/>\n     <use xlink:href=\"#m68c9d91da8\" x=\"208.650513\" y=\"141.563403\" style=\"fill: #1f77b4; stroke: #1f77b4\"/>\n     <use xlink:href=\"#m68c9d91da8\" x=\"199.804211\" y=\"144.822948\" style=\"fill: #1f77b4; stroke: #1f77b4\"/>\n     <use xlink:href=\"#m68c9d91da8\" x=\"188.288831\" y=\"135.804683\" style=\"fill: #1f77b4; stroke: #1f77b4\"/>\n     <use xlink:href=\"#m68c9d91da8\" x=\"297.273322\" y=\"56.453444\" style=\"fill: #1f77b4; stroke: #1f77b4\"/>\n     <use xlink:href=\"#m68c9d91da8\" x=\"273.898838\" y=\"74.915696\" style=\"fill: #1f77b4; stroke: #1f77b4\"/>\n     <use xlink:href=\"#m68c9d91da8\" x=\"187.408382\" y=\"151.15586\" style=\"fill: #1f77b4; stroke: #1f77b4\"/>\n     <use xlink:href=\"#m68c9d91da8\" x=\"175.880082\" y=\"155.762798\" style=\"fill: #1f77b4; stroke: #1f77b4\"/>\n     <use xlink:href=\"#m68c9d91da8\" x=\"160.348513\" y=\"167.760306\" style=\"fill: #1f77b4; stroke: #1f77b4\"/>\n     <use xlink:href=\"#m68c9d91da8\" x=\"237.16897\" y=\"79.079626\" style=\"fill: #1f77b4; stroke: #1f77b4\"/>\n     <use xlink:href=\"#m68c9d91da8\" x=\"154.373631\" y=\"167.307561\" style=\"fill: #1f77b4; stroke: #1f77b4\"/>\n     <use xlink:href=\"#m68c9d91da8\" x=\"300.827784\" y=\"51.05392\" style=\"fill: #1f77b4; stroke: #1f77b4\"/>\n     <use xlink:href=\"#m68c9d91da8\" x=\"205.559644\" y=\"107.906444\" style=\"fill: #1f77b4; stroke: #1f77b4\"/>\n     <use xlink:href=\"#m68c9d91da8\" x=\"146.741468\" y=\"184.946827\" style=\"fill: #1f77b4; stroke: #1f77b4\"/>\n     <use xlink:href=\"#m68c9d91da8\" x=\"289.192786\" y=\"52.851592\" style=\"fill: #1f77b4; stroke: #1f77b4\"/>\n     <use xlink:href=\"#m68c9d91da8\" x=\"251.870083\" y=\"78.496628\" style=\"fill: #1f77b4; stroke: #1f77b4\"/>\n     <use xlink:href=\"#m68c9d91da8\" x=\"245.990112\" y=\"110.201077\" style=\"fill: #1f77b4; stroke: #1f77b4\"/>\n     <use xlink:href=\"#m68c9d91da8\" x=\"244.535236\" y=\"96.769417\" style=\"fill: #1f77b4; stroke: #1f77b4\"/>\n     <use xlink:href=\"#m68c9d91da8\" x=\"256.342582\" y=\"120.6883\" style=\"fill: #1f77b4; stroke: #1f77b4\"/>\n     <use xlink:href=\"#m68c9d91da8\" x=\"259.922463\" y=\"92.316158\" style=\"fill: #1f77b4; stroke: #1f77b4\"/>\n     <use xlink:href=\"#m68c9d91da8\" x=\"164.504371\" y=\"163.875182\" style=\"fill: #1f77b4; stroke: #1f77b4\"/>\n     <use xlink:href=\"#m68c9d91da8\" x=\"135.898121\" y=\"172.499942\" style=\"fill: #1f77b4; stroke: #1f77b4\"/>\n     <use xlink:href=\"#m68c9d91da8\" x=\"161.553213\" y=\"158.599772\" style=\"fill: #1f77b4; stroke: #1f77b4\"/>\n     <use xlink:href=\"#m68c9d91da8\" x=\"186.853967\" y=\"114.194498\" style=\"fill: #1f77b4; stroke: #1f77b4\"/>\n     <use xlink:href=\"#m68c9d91da8\" x=\"288.422158\" y=\"94.316616\" style=\"fill: #1f77b4; stroke: #1f77b4\"/>\n    </g>\n   </g>\n   <g id=\"matplotlib.axis_1\">\n    <g id=\"xtick_1\">\n     <g id=\"line2d_1\">\n      <defs>\n       <path id=\"m288c06b3ed\" d=\"M 0 0 \nL 0 3.5 \n\" style=\"stroke: #000000; stroke-width: 0.8\"/>\n      </defs>\n      <g>\n       <use xlink:href=\"#m288c06b3ed\" x=\"57.719598\" y=\"273.312\" style=\"stroke: #000000; stroke-width: 0.8\"/>\n      </g>\n     </g>\n     <g id=\"text_1\">\n      <!-- −2 -->\n      <g transform=\"translate(50.348504 287.910437) scale(0.1 -0.1)\">\n       <defs>\n        <path id=\"DejaVuSans-2212\" d=\"M 678 2272 \nL 4684 2272 \nL 4684 1741 \nL 678 1741 \nL 678 2272 \nz\n\" transform=\"scale(0.015625)\"/>\n        <path id=\"DejaVuSans-32\" d=\"M 1228 531 \nL 3431 531 \nL 3431 0 \nL 469 0 \nL 469 531 \nQ 828 903 1448 1529 \nQ 2069 2156 2228 2338 \nQ 2531 2678 2651 2914 \nQ 2772 3150 2772 3378 \nQ 2772 3750 2511 3984 \nQ 2250 4219 1831 4219 \nQ 1534 4219 1204 4116 \nQ 875 4013 500 3803 \nL 500 4441 \nQ 881 4594 1212 4672 \nQ 1544 4750 1819 4750 \nQ 2544 4750 2975 4387 \nQ 3406 4025 3406 3419 \nQ 3406 3131 3298 2873 \nQ 3191 2616 2906 2266 \nQ 2828 2175 2409 1742 \nQ 1991 1309 1228 531 \nz\n\" transform=\"scale(0.015625)\"/>\n       </defs>\n       <use xlink:href=\"#DejaVuSans-2212\"/>\n       <use xlink:href=\"#DejaVuSans-32\" x=\"83.789062\"/>\n      </g>\n     </g>\n    </g>\n    <g id=\"xtick_2\">\n     <g id=\"line2d_2\">\n      <g>\n       <use xlink:href=\"#m288c06b3ed\" x=\"112.878415\" y=\"273.312\" style=\"stroke: #000000; stroke-width: 0.8\"/>\n      </g>\n     </g>\n     <g id=\"text_2\">\n      <!-- −1 -->\n      <g transform=\"translate(105.507321 287.910437) scale(0.1 -0.1)\">\n       <defs>\n        <path id=\"DejaVuSans-31\" d=\"M 794 531 \nL 1825 531 \nL 1825 4091 \nL 703 3866 \nL 703 4441 \nL 1819 4666 \nL 2450 4666 \nL 2450 531 \nL 3481 531 \nL 3481 0 \nL 794 0 \nL 794 531 \nz\n\" transform=\"scale(0.015625)\"/>\n       </defs>\n       <use xlink:href=\"#DejaVuSans-2212\"/>\n       <use xlink:href=\"#DejaVuSans-31\" x=\"83.789062\"/>\n      </g>\n     </g>\n    </g>\n    <g id=\"xtick_3\">\n     <g id=\"line2d_3\">\n      <g>\n       <use xlink:href=\"#m288c06b3ed\" x=\"168.037231\" y=\"273.312\" style=\"stroke: #000000; stroke-width: 0.8\"/>\n      </g>\n     </g>\n     <g id=\"text_3\">\n      <!-- 0 -->\n      <g transform=\"translate(164.855981 287.910437) scale(0.1 -0.1)\">\n       <defs>\n        <path id=\"DejaVuSans-30\" d=\"M 2034 4250 \nQ 1547 4250 1301 3770 \nQ 1056 3291 1056 2328 \nQ 1056 1369 1301 889 \nQ 1547 409 2034 409 \nQ 2525 409 2770 889 \nQ 3016 1369 3016 2328 \nQ 3016 3291 2770 3770 \nQ 2525 4250 2034 4250 \nz\nM 2034 4750 \nQ 2819 4750 3233 4129 \nQ 3647 3509 3647 2328 \nQ 3647 1150 3233 529 \nQ 2819 -91 2034 -91 \nQ 1250 -91 836 529 \nQ 422 1150 422 2328 \nQ 422 3509 836 4129 \nQ 1250 4750 2034 4750 \nz\n\" transform=\"scale(0.015625)\"/>\n       </defs>\n       <use xlink:href=\"#DejaVuSans-30\"/>\n      </g>\n     </g>\n    </g>\n    <g id=\"xtick_4\">\n     <g id=\"line2d_4\">\n      <g>\n       <use xlink:href=\"#m288c06b3ed\" x=\"223.196048\" y=\"273.312\" style=\"stroke: #000000; stroke-width: 0.8\"/>\n      </g>\n     </g>\n     <g id=\"text_4\">\n      <!-- 1 -->\n      <g transform=\"translate(220.014798 287.910437) scale(0.1 -0.1)\">\n       <use xlink:href=\"#DejaVuSans-31\"/>\n      </g>\n     </g>\n    </g>\n    <g id=\"xtick_5\">\n     <g id=\"line2d_5\">\n      <g>\n       <use xlink:href=\"#m288c06b3ed\" x=\"278.354865\" y=\"273.312\" style=\"stroke: #000000; stroke-width: 0.8\"/>\n      </g>\n     </g>\n     <g id=\"text_5\">\n      <!-- 2 -->\n      <g transform=\"translate(275.173615 287.910437) scale(0.1 -0.1)\">\n       <use xlink:href=\"#DejaVuSans-32\"/>\n      </g>\n     </g>\n    </g>\n    <g id=\"xtick_6\">\n     <g id=\"line2d_6\">\n      <g>\n       <use xlink:href=\"#m288c06b3ed\" x=\"333.513681\" y=\"273.312\" style=\"stroke: #000000; stroke-width: 0.8\"/>\n      </g>\n     </g>\n     <g id=\"text_6\">\n      <!-- 3 -->\n      <g transform=\"translate(330.332431 287.910437) scale(0.1 -0.1)\">\n       <defs>\n        <path id=\"DejaVuSans-33\" d=\"M 2597 2516 \nQ 3050 2419 3304 2112 \nQ 3559 1806 3559 1356 \nQ 3559 666 3084 287 \nQ 2609 -91 1734 -91 \nQ 1441 -91 1130 -33 \nQ 819 25 488 141 \nL 488 750 \nQ 750 597 1062 519 \nQ 1375 441 1716 441 \nQ 2309 441 2620 675 \nQ 2931 909 2931 1356 \nQ 2931 1769 2642 2001 \nQ 2353 2234 1838 2234 \nL 1294 2234 \nL 1294 2753 \nL 1863 2753 \nQ 2328 2753 2575 2939 \nQ 2822 3125 2822 3475 \nQ 2822 3834 2567 4026 \nQ 2313 4219 1838 4219 \nQ 1578 4219 1281 4162 \nQ 984 4106 628 3988 \nL 628 4550 \nQ 988 4650 1302 4700 \nQ 1616 4750 1894 4750 \nQ 2613 4750 3031 4423 \nQ 3450 4097 3450 3541 \nQ 3450 3153 3228 2886 \nQ 3006 2619 2597 2516 \nz\n\" transform=\"scale(0.015625)\"/>\n       </defs>\n       <use xlink:href=\"#DejaVuSans-33\"/>\n      </g>\n     </g>\n    </g>\n   </g>\n   <g id=\"matplotlib.axis_2\">\n    <g id=\"ytick_1\">\n     <g id=\"line2d_7\">\n      <defs>\n       <path id=\"mefbd81c7bd\" d=\"M 0 0 \nL -3.5 0 \n\" style=\"stroke: #000000; stroke-width: 0.8\"/>\n      </defs>\n      <g>\n       <use xlink:href=\"#mefbd81c7bd\" x=\"28.942188\" y=\"250.920536\" style=\"stroke: #000000; stroke-width: 0.8\"/>\n      </g>\n     </g>\n     <g id=\"text_7\">\n      <!-- −4 -->\n      <g transform=\"translate(7.2 254.719755) scale(0.1 -0.1)\">\n       <defs>\n        <path id=\"DejaVuSans-34\" d=\"M 2419 4116 \nL 825 1625 \nL 2419 1625 \nL 2419 4116 \nz\nM 2253 4666 \nL 3047 4666 \nL 3047 1625 \nL 3713 1625 \nL 3713 1100 \nL 3047 1100 \nL 3047 0 \nL 2419 0 \nL 2419 1100 \nL 313 1100 \nL 313 1709 \nL 2253 4666 \nz\n\" transform=\"scale(0.015625)\"/>\n       </defs>\n       <use xlink:href=\"#DejaVuSans-2212\"/>\n       <use xlink:href=\"#DejaVuSans-34\" x=\"83.789062\"/>\n      </g>\n     </g>\n    </g>\n    <g id=\"ytick_2\">\n     <g id=\"line2d_8\">\n      <g>\n       <use xlink:href=\"#mefbd81c7bd\" x=\"28.942188\" y=\"207.715937\" style=\"stroke: #000000; stroke-width: 0.8\"/>\n      </g>\n     </g>\n     <g id=\"text_8\">\n      <!-- −2 -->\n      <g transform=\"translate(7.2 211.515155) scale(0.1 -0.1)\">\n       <use xlink:href=\"#DejaVuSans-2212\"/>\n       <use xlink:href=\"#DejaVuSans-32\" x=\"83.789062\"/>\n      </g>\n     </g>\n    </g>\n    <g id=\"ytick_3\">\n     <g id=\"line2d_9\">\n      <g>\n       <use xlink:href=\"#mefbd81c7bd\" x=\"28.942188\" y=\"164.511337\" style=\"stroke: #000000; stroke-width: 0.8\"/>\n      </g>\n     </g>\n     <g id=\"text_9\">\n      <!-- 0 -->\n      <g transform=\"translate(15.579688 168.310556) scale(0.1 -0.1)\">\n       <use xlink:href=\"#DejaVuSans-30\"/>\n      </g>\n     </g>\n    </g>\n    <g id=\"ytick_4\">\n     <g id=\"line2d_10\">\n      <g>\n       <use xlink:href=\"#mefbd81c7bd\" x=\"28.942188\" y=\"121.306738\" style=\"stroke: #000000; stroke-width: 0.8\"/>\n      </g>\n     </g>\n     <g id=\"text_10\">\n      <!-- 2 -->\n      <g transform=\"translate(15.579688 125.105957) scale(0.1 -0.1)\">\n       <use xlink:href=\"#DejaVuSans-32\"/>\n      </g>\n     </g>\n    </g>\n    <g id=\"ytick_5\">\n     <g id=\"line2d_11\">\n      <g>\n       <use xlink:href=\"#mefbd81c7bd\" x=\"28.942188\" y=\"78.102139\" style=\"stroke: #000000; stroke-width: 0.8\"/>\n      </g>\n     </g>\n     <g id=\"text_11\">\n      <!-- 4 -->\n      <g transform=\"translate(15.579688 81.901358) scale(0.1 -0.1)\">\n       <use xlink:href=\"#DejaVuSans-34\"/>\n      </g>\n     </g>\n    </g>\n    <g id=\"ytick_6\">\n     <g id=\"line2d_12\">\n      <g>\n       <use xlink:href=\"#mefbd81c7bd\" x=\"28.942188\" y=\"34.89754\" style=\"stroke: #000000; stroke-width: 0.8\"/>\n      </g>\n     </g>\n     <g id=\"text_12\">\n      <!-- 6 -->\n      <g transform=\"translate(15.579688 38.696758) scale(0.1 -0.1)\">\n       <defs>\n        <path id=\"DejaVuSans-36\" d=\"M 2113 2584 \nQ 1688 2584 1439 2293 \nQ 1191 2003 1191 1497 \nQ 1191 994 1439 701 \nQ 1688 409 2113 409 \nQ 2538 409 2786 701 \nQ 3034 994 3034 1497 \nQ 3034 2003 2786 2293 \nQ 2538 2584 2113 2584 \nz\nM 3366 4563 \nL 3366 3988 \nQ 3128 4100 2886 4159 \nQ 2644 4219 2406 4219 \nQ 1781 4219 1451 3797 \nQ 1122 3375 1075 2522 \nQ 1259 2794 1537 2939 \nQ 1816 3084 2150 3084 \nQ 2853 3084 3261 2657 \nQ 3669 2231 3669 1497 \nQ 3669 778 3244 343 \nQ 2819 -91 2113 -91 \nQ 1303 -91 875 529 \nQ 447 1150 447 2328 \nQ 447 3434 972 4092 \nQ 1497 4750 2381 4750 \nQ 2619 4750 2861 4703 \nQ 3103 4656 3366 4563 \nz\n\" transform=\"scale(0.015625)\"/>\n       </defs>\n       <use xlink:href=\"#DejaVuSans-36\"/>\n      </g>\n     </g>\n    </g>\n   </g>\n   <g id=\"patch_3\">\n    <path d=\"M 28.942188 273.312 \nL 28.942188 7.2 \n\" style=\"fill: none; stroke: #000000; stroke-width: 0.8; stroke-linejoin: miter; stroke-linecap: square\"/>\n   </g>\n   <g id=\"patch_4\">\n    <path d=\"M 386.062188 273.312 \nL 386.062188 7.2 \n\" style=\"fill: none; stroke: #000000; stroke-width: 0.8; stroke-linejoin: miter; stroke-linecap: square\"/>\n   </g>\n   <g id=\"patch_5\">\n    <path d=\"M 28.942188 273.312 \nL 386.062188 273.312 \n\" style=\"fill: none; stroke: #000000; stroke-width: 0.8; stroke-linejoin: miter; stroke-linecap: square\"/>\n   </g>\n   <g id=\"patch_6\">\n    <path d=\"M 28.942188 7.2 \nL 386.062188 7.2 \n\" style=\"fill: none; stroke: #000000; stroke-width: 0.8; stroke-linejoin: miter; stroke-linecap: square\"/>\n   </g>\n  </g>\n </g>\n <defs>\n  <clipPath id=\"p66aa8fef65\">\n   <rect x=\"28.942188\" y=\"7.2\" width=\"357.12\" height=\"266.112\"/>\n  </clipPath>\n </defs>\n</svg>\n"
          },
          "metadata": {}
        }
      ]
    },
    {
      "cell_type": "code",
      "source": [
        "batch_size = 8\n",
        "data_iter = load_array((data,), batch_size)"
      ],
      "metadata": {
        "id": "G1pN0LKa1HOK"
      },
      "execution_count": null,
      "outputs": []
    },
    {
      "cell_type": "code",
      "source": [
        "net_G = tf.keras.layers.Dense(2)"
      ],
      "metadata": {
        "id": "yV-o2pAa2ZqM"
      },
      "execution_count": null,
      "outputs": []
    },
    {
      "cell_type": "code",
      "source": [
        "net_D = tf.keras.models.Sequential([\n",
        "    tf.keras.layers.Dense(5, activation=\"tanh\", input_shape=(2,)),\n",
        "    tf.keras.layers.Dense(3, activation=\"tanh\"),\n",
        "    tf.keras.layers.Dense(1)\n",
        "])"
      ],
      "metadata": {
        "id": "9yyei66t2Zlq"
      },
      "execution_count": null,
      "outputs": []
    },
    {
      "cell_type": "code",
      "source": [
        "def update_D(X, Z, net_D, net_G, loss, optimizer_D):\n",
        "    \"\"\"Update discriminator.\"\"\"\n",
        "    batch_size = X.shape[0]\n",
        "    ones = tf.ones((batch_size,)) # Labels corresponding to real data\n",
        "    zeros = tf.zeros((batch_size,)) # Labels corresponding to fake data\n",
        "    # Do not need to compute gradient for `net_G`, so it is outside GradientTape\n",
        "    fake_X = net_G(Z)\n",
        "    with tf.GradientTape() as tape:\n",
        "        real_Y = net_D(X)\n",
        "        fake_Y = net_D(fake_X)\n",
        "        loss_D = (loss(ones, tf.squeeze(real_Y)) + loss(\n",
        "            zeros, tf.squeeze(fake_Y))) * batch_size / 2\n",
        "    grads_D = tape.gradient(loss_D, net_D.trainable_variables)\n",
        "    optimizer_D.apply_gradients(zip(grads_D, net_D.trainable_variables))\n",
        "    return loss_D"
      ],
      "metadata": {
        "id": "_am9i8OrylgQ"
      },
      "execution_count": null,
      "outputs": []
    },
    {
      "cell_type": "code",
      "source": [
        "def update_G(Z, net_D, net_G, loss, optimizer_G):\n",
        "    \"\"\"Update generator.\"\"\"\n",
        "    batch_size = Z.shape[0]\n",
        "    ones = tf.ones((batch_size,))\n",
        "    with tf.GradientTape() as tape:\n",
        "        # We could reuse `fake_X` from `update_D` to save computation\n",
        "        fake_X = net_G(Z)\n",
        "        # Recomputing `fake_Y` is needed since `net_D` is changed\n",
        "        fake_Y = net_D(fake_X)\n",
        "        # We multiply the loss by batch_size to match PyTorch's BCEWithLogits loss\n",
        "        loss_G = loss(ones, tf.squeeze(fake_Y)) * batch_size\n",
        "    grads_G = tape.gradient(loss_G, net_G.trainable_variables)\n",
        "    optimizer_G.apply_gradients(zip(grads_G, net_G.trainable_variables))\n",
        "    return loss_G"
      ],
      "metadata": {
        "id": "CFt-l0H61FqP"
      },
      "execution_count": null,
      "outputs": []
    },
    {
      "cell_type": "code",
      "source": [
        "def train(net_D, net_G, data_iter, num_epochs, lr_D, lr_G, latent_dim, data):\n",
        "    loss = tf.keras.losses.BinaryCrossentropy(\n",
        "        from_logits=True, reduction=tf.keras.losses.Reduction.SUM)\n",
        "    for w in net_D.trainable_variables:\n",
        "        w.assign(tf.random.normal(mean=0, stddev=0.02, shape=w.shape))\n",
        "    for w in net_G.trainable_variables:\n",
        "        w.assign(tf.random.normal(mean=0, stddev=0.02, shape=w.shape))\n",
        "    optimizer_D = tf.keras.optimizers.Adam(learning_rate=lr_D)\n",
        "    optimizer_G = tf.keras.optimizers.Adam(learning_rate=lr_G)\n",
        "\n",
        "    for epoch in range(num_epochs):\n",
        "        # Train one epoch\n",
        "        timer = Timer()\n",
        "        metric = Accumulator(3)  # loss_D, loss_G, num_examples\n",
        "        for (X,) in data_iter:\n",
        "            batch_size = X.shape[0]\n",
        "            Z = tf.random.normal(\n",
        "                mean=0, stddev=1, shape=(batch_size, latent_dim))\n",
        "            metric.add(update_D(X, Z, net_D, net_G, loss, optimizer_D),\n",
        "                       update_G(Z, net_D, net_G, loss, optimizer_G),\n",
        "                       batch_size)\n",
        "\n",
        "        Z = tf.random.normal(mean=0, stddev=1, shape=(100, latent_dim))\n",
        "        fake_X = net_G(Z)\n",
        "        # Show the losses\n",
        "        loss_D, loss_G = metric[0] / metric[2], metric[1] / metric[2]\n",
        "\n",
        "    print(f'loss_D {loss_D:.3f}, loss_G {loss_G:.3f}, '\n",
        "          f'{metric[2] / timer.stop():.1f} examples/sec')"
      ],
      "metadata": {
        "id": "2bjf5Wlk5qG7"
      },
      "execution_count": null,
      "outputs": []
    },
    {
      "cell_type": "code",
      "source": [
        "lr_D, lr_G, latent_dim, num_epochs = 0.05, 0.005, 2, 20\n",
        "train(net_D, net_G, data_iter, num_epochs, lr_D, lr_G,\n",
        "      latent_dim, data[:100].numpy())"
      ],
      "metadata": {
        "colab": {
          "base_uri": "https://localhost:8080/"
        },
        "id": "_nommNCy1A09",
        "outputId": "a003fb86-193f-40da-916c-03166458d9ef"
      },
      "execution_count": null,
      "outputs": [
        {
          "output_type": "stream",
          "name": "stdout",
          "text": [
            "loss_D 0.693, loss_G 0.693, 97.8 examples/sec\n"
          ]
        }
      ]
    },
    {
      "cell_type": "code",
      "source": [
        "Z = tf.random.normal(mean=0, stddev=1, shape=(100, latent_dim))\n",
        "net_G(Z)"
      ],
      "metadata": {
        "colab": {
          "base_uri": "https://localhost:8080/"
        },
        "id": "hnHLfkwS_vWX",
        "outputId": "a67998ae-f146-4386-ee31-13b4d94943c5"
      },
      "execution_count": null,
      "outputs": [
        {
          "output_type": "execute_result",
          "data": {
            "text/plain": [
              "<tf.Tensor: shape=(100, 2), dtype=float32, numpy=\n",
              "array([[-5.2743316e-02, -3.2440054e-01],\n",
              "       [ 9.7129524e-01,  9.7704566e-01],\n",
              "       [ 2.9762822e-01,  1.1944754e+00],\n",
              "       [-1.6930240e-01,  1.9468386e+00],\n",
              "       [-4.8095459e-01,  4.9996650e-01],\n",
              "       [-1.2282474e+00, -4.8257792e-01],\n",
              "       [ 4.1814971e-01,  2.2566888e+00],\n",
              "       [ 2.3228088e-01,  1.4024923e+00],\n",
              "       [ 4.7785103e-02,  1.8862766e+00],\n",
              "       [-1.9412997e+00, -3.3083334e+00],\n",
              "       [ 1.4235270e+00,  2.4747293e+00],\n",
              "       [ 9.8196357e-01,  2.8092804e+00],\n",
              "       [ 1.1094036e+00,  3.2141104e+00],\n",
              "       [ 3.2190710e-01, -3.3615148e-01],\n",
              "       [-3.2546657e-01, -6.9982016e-01],\n",
              "       [-7.5527674e-01, -1.7936075e-01],\n",
              "       [ 1.1912472e+00,  3.5988002e+00],\n",
              "       [ 3.1280354e-01,  1.7711351e+00],\n",
              "       [-4.6216589e-01, -8.1811011e-01],\n",
              "       [ 6.9047093e-02,  2.1000113e+00],\n",
              "       [ 6.4540595e-02,  2.2104752e+00],\n",
              "       [-2.4325013e-01,  1.1333315e+00],\n",
              "       [ 3.0668068e-01,  1.9573572e+00],\n",
              "       [ 1.9884303e+00,  4.6447663e+00],\n",
              "       [ 2.1325839e+00,  5.0394769e+00],\n",
              "       [ 1.5468469e+00,  3.6881676e+00],\n",
              "       [ 4.0108931e-01,  2.1134248e+00],\n",
              "       [ 1.1070037e+00,  1.5399736e+00],\n",
              "       [-3.8056034e-01,  5.1356673e-02],\n",
              "       [-1.0278823e+00, -1.3189403e+00],\n",
              "       [ 1.2161548e+00,  2.3883605e+00],\n",
              "       [ 1.3562477e+00,  3.6361730e+00],\n",
              "       [ 1.1842102e-01,  1.7951308e+00],\n",
              "       [ 1.4797733e+00,  3.7779379e+00],\n",
              "       [ 1.1028447e+00,  4.1131377e+00],\n",
              "       [ 8.5978276e-01,  2.6698248e+00],\n",
              "       [-8.6059839e-01, -3.7168903e+00],\n",
              "       [-3.2398707e-01, -6.8766463e-01],\n",
              "       [-2.8051704e-01, -3.6221743e-03],\n",
              "       [-9.9374443e-01,  1.6408896e-01],\n",
              "       [ 4.1562289e-01,  2.5945079e+00],\n",
              "       [-8.6386925e-01,  2.4708903e-01],\n",
              "       [ 1.7785861e+00,  4.1433768e+00],\n",
              "       [ 1.0483265e-01,  1.3728480e+00],\n",
              "       [ 1.5317247e+00,  3.1628761e+00],\n",
              "       [ 3.6423385e-02,  9.8635757e-01],\n",
              "       [ 2.6297003e-01,  1.8451507e+00],\n",
              "       [ 2.6925585e+00,  5.3225698e+00],\n",
              "       [ 1.6084862e+00,  4.0118136e+00],\n",
              "       [ 8.2988727e-01,  2.9033349e+00],\n",
              "       [ 1.5184693e+00,  2.3914151e+00],\n",
              "       [ 3.0640583e+00,  7.3189373e+00],\n",
              "       [ 2.4242206e+00,  4.0142226e+00],\n",
              "       [ 1.1281583e+00,  4.7503963e+00],\n",
              "       [-5.3050607e-01,  1.9897282e-01],\n",
              "       [ 5.5197275e-01,  3.1508856e+00],\n",
              "       [-2.8409058e-01, -1.1137068e-01],\n",
              "       [ 9.0953332e-01,  2.8025708e+00],\n",
              "       [-1.0027373e-01, -5.2357233e-01],\n",
              "       [-2.8239975e+00, -4.5355368e+00],\n",
              "       [ 1.1646092e+00,  3.9605074e+00],\n",
              "       [ 7.1234918e-01,  2.1795788e+00],\n",
              "       [ 9.4810283e-01,  2.0103905e+00],\n",
              "       [ 5.1728940e-01,  1.5642784e+00],\n",
              "       [ 1.4613155e+00,  3.4476271e+00],\n",
              "       [ 4.7019061e-01,  7.9685009e-01],\n",
              "       [ 2.0434525e+00,  6.6225696e+00],\n",
              "       [ 1.5548646e+00,  4.3033409e+00],\n",
              "       [ 1.8714920e-01, -1.7513871e-02],\n",
              "       [ 6.5095323e-01,  2.8459752e+00],\n",
              "       [-8.1598240e-01,  9.9908352e-02],\n",
              "       [ 1.3161516e+00,  4.4822469e+00],\n",
              "       [-2.0961714e+00, -2.5154428e+00],\n",
              "       [ 4.3580270e-01,  2.0720682e+00],\n",
              "       [ 3.9044845e-01,  1.7240864e+00],\n",
              "       [-2.0129412e-01,  1.8956053e-01],\n",
              "       [ 6.5500247e-01,  1.6767819e+00],\n",
              "       [ 4.5045394e-01,  2.5086119e+00],\n",
              "       [ 1.2395506e+00,  3.5341926e+00],\n",
              "       [-6.6720325e-01,  1.5058454e+00],\n",
              "       [ 1.6921935e+00,  4.3190970e+00],\n",
              "       [ 1.3019469e+00,  3.1128535e+00],\n",
              "       [ 2.4961545e+00,  4.7375154e+00],\n",
              "       [-1.2574321e-01,  3.7965941e-01],\n",
              "       [-1.3468575e+00, -1.5166699e+00],\n",
              "       [ 1.7302027e+00,  4.1648831e+00],\n",
              "       [-4.6435243e-01,  4.6085787e-01],\n",
              "       [ 3.2806315e+00,  6.6294494e+00],\n",
              "       [-1.3808694e+00, -1.2238477e+00],\n",
              "       [ 8.4538341e-01,  2.8917193e+00],\n",
              "       [-4.5843780e-02,  1.4678669e+00],\n",
              "       [ 9.8668778e-01,  2.5229487e+00],\n",
              "       [ 1.9826317e-01,  1.9331698e+00],\n",
              "       [ 1.2756804e+00,  4.3166537e+00],\n",
              "       [-3.4920174e-01,  1.1248350e+00],\n",
              "       [-1.3894548e+00, -1.5242416e+00],\n",
              "       [ 1.9441507e+00,  4.1125293e+00],\n",
              "       [ 4.1171867e-01,  2.0801554e+00],\n",
              "       [ 1.1744642e+00,  2.7364430e+00],\n",
              "       [-5.8719593e-01, -2.0025194e-01]], dtype=float32)>"
            ]
          },
          "metadata": {},
          "execution_count": 80
        }
      ]
    },
    {
      "cell_type": "code",
      "source": [
        "net_G(Z)[:,0]"
      ],
      "metadata": {
        "colab": {
          "base_uri": "https://localhost:8080/"
        },
        "id": "TYLTJuq9KLTT",
        "outputId": "d6901f88-fc50-4072-837d-aca6f8ae6a01"
      },
      "execution_count": null,
      "outputs": [
        {
          "output_type": "execute_result",
          "data": {
            "text/plain": [
              "<tf.Tensor: shape=(100,), dtype=float32, numpy=\n",
              "array([-0.05274332,  0.97129524,  0.29762822, -0.1693024 , -0.4809546 ,\n",
              "       -1.2282474 ,  0.4181497 ,  0.23228088,  0.0477851 , -1.9412997 ,\n",
              "        1.423527  ,  0.9819636 ,  1.1094036 ,  0.3219071 , -0.32546657,\n",
              "       -0.75527674,  1.1912472 ,  0.31280354, -0.4621659 ,  0.06904709,\n",
              "        0.06454059, -0.24325013,  0.30668068,  1.9884303 ,  2.1325839 ,\n",
              "        1.5468469 ,  0.4010893 ,  1.1070037 , -0.38056034, -1.0278823 ,\n",
              "        1.2161548 ,  1.3562477 ,  0.11842102,  1.4797733 ,  1.1028447 ,\n",
              "        0.85978276, -0.8605984 , -0.32398707, -0.28051704, -0.99374443,\n",
              "        0.4156229 , -0.86386925,  1.7785861 ,  0.10483265,  1.5317247 ,\n",
              "        0.03642339,  0.26297003,  2.6925585 ,  1.6084862 ,  0.8298873 ,\n",
              "        1.5184693 ,  3.0640583 ,  2.4242206 ,  1.1281583 , -0.5305061 ,\n",
              "        0.55197275, -0.28409058,  0.9095333 , -0.10027373, -2.8239975 ,\n",
              "        1.1646092 ,  0.7123492 ,  0.94810283,  0.5172894 ,  1.4613155 ,\n",
              "        0.4701906 ,  2.0434525 ,  1.5548646 ,  0.1871492 ,  0.65095323,\n",
              "       -0.8159824 ,  1.3161516 , -2.0961714 ,  0.4358027 ,  0.39044845,\n",
              "       -0.20129412,  0.6550025 ,  0.45045394,  1.2395506 , -0.66720325,\n",
              "        1.6921935 ,  1.3019469 ,  2.4961545 , -0.12574321, -1.3468575 ,\n",
              "        1.7302027 , -0.46435243,  3.2806315 , -1.3808694 ,  0.8453834 ,\n",
              "       -0.04584378,  0.9866878 ,  0.19826317,  1.2756804 , -0.34920174,\n",
              "       -1.3894548 ,  1.9441507 ,  0.41171867,  1.1744642 , -0.58719593],\n",
              "      dtype=float32)>"
            ]
          },
          "metadata": {},
          "execution_count": 82
        }
      ]
    },
    {
      "cell_type": "code",
      "source": [
        "plt.scatter(net_G(Z)[:,0].numpy(), net_G(Z)[:,1].numpy(), marker='.', label='Generated')\n",
        "plt.scatter(data[:100, 0].numpy(), data[:100, 1].numpy(), marker='*', label='Real')\n",
        "plt.legend()"
      ],
      "metadata": {
        "colab": {
          "base_uri": "https://localhost:8080/",
          "height": 435
        },
        "id": "bwQRLpPpJ1IN",
        "outputId": "fbfde3bf-1201-4c2a-e1c1-3f7b1c30e27f"
      },
      "execution_count": null,
      "outputs": [
        {
          "output_type": "execute_result",
          "data": {
            "text/plain": [
              "<matplotlib.legend.Legend at 0x7db0e8f18550>"
            ]
          },
          "metadata": {},
          "execution_count": 95
        },
        {
          "output_type": "display_data",
          "data": {
            "text/plain": [
              "<Figure size 640x480 with 1 Axes>"
            ],
            "image/svg+xml": "<?xml version=\"1.0\" encoding=\"utf-8\" standalone=\"no\"?>\n<!DOCTYPE svg PUBLIC \"-//W3C//DTD SVG 1.1//EN\"\n  \"http://www.w3.org/Graphics/SVG/1.1/DTD/svg11.dtd\">\n<svg xmlns:xlink=\"http://www.w3.org/1999/xlink\" width=\"393.262187pt\" height=\"297.190125pt\" viewBox=\"0 0 393.262187 297.190125\" xmlns=\"http://www.w3.org/2000/svg\" version=\"1.1\">\n <metadata>\n  <rdf:RDF xmlns:dc=\"http://purl.org/dc/elements/1.1/\" xmlns:cc=\"http://creativecommons.org/ns#\" xmlns:rdf=\"http://www.w3.org/1999/02/22-rdf-syntax-ns#\">\n   <cc:Work>\n    <dc:type rdf:resource=\"http://purl.org/dc/dcmitype/StillImage\"/>\n    <dc:date>2024-02-11T12:44:00.076896</dc:date>\n    <dc:format>image/svg+xml</dc:format>\n    <dc:creator>\n     <cc:Agent>\n      <dc:title>Matplotlib v3.7.1, https://matplotlib.org/</dc:title>\n     </cc:Agent>\n    </dc:creator>\n   </cc:Work>\n  </rdf:RDF>\n </metadata>\n <defs>\n  <style type=\"text/css\">*{stroke-linejoin: round; stroke-linecap: butt}</style>\n </defs>\n <g id=\"figure_1\">\n  <g id=\"patch_1\">\n   <path d=\"M 0 297.190125 \nL 393.262187 297.190125 \nL 393.262187 0 \nL 0 0 \nz\n\" style=\"fill: #ffffff\"/>\n  </g>\n  <g id=\"axes_1\">\n   <g id=\"patch_2\">\n    <path d=\"M 28.942188 273.312 \nL 386.062188 273.312 \nL 386.062188 7.2 \nL 28.942188 7.2 \nz\n\" style=\"fill: #ffffff\"/>\n   </g>\n   <g id=\"PathCollection_1\">\n    <defs>\n     <path id=\"m720b964f83\" d=\"M 0 1.5 \nC 0.397805 1.5 0.77937 1.341951 1.06066 1.06066 \nC 1.341951 0.77937 1.5 0.397805 1.5 0 \nC 1.5 -0.397805 1.341951 -0.77937 1.06066 -1.06066 \nC 0.77937 -1.341951 0.397805 -1.5 0 -1.5 \nC -0.397805 -1.5 -0.77937 -1.341951 -1.06066 -1.06066 \nC -1.341951 -0.77937 -1.5 -0.397805 -1.5 0 \nC -1.5 0.397805 -1.341951 0.77937 -1.06066 1.06066 \nC -0.77937 1.341951 -0.397805 1.5 0 1.5 \nz\n\" style=\"stroke: #1f77b4\"/>\n    </defs>\n    <g clip-path=\"url(#pd842eb59cd)\">\n     <use xlink:href=\"#m720b964f83\" x=\"183.966503\" y=\"175.277301\" style=\"fill: #1f77b4; stroke: #1f77b4\"/>\n     <use xlink:href=\"#m720b964f83\" x=\"235.253006\" y=\"148.718058\" style=\"fill: #1f77b4; stroke: #1f77b4\"/>\n     <use xlink:href=\"#m720b964f83\" x=\"201.514017\" y=\"144.280863\" style=\"fill: #1f77b4; stroke: #1f77b4\"/>\n     <use xlink:href=\"#m720b964f83\" x=\"178.128922\" y=\"128.927023\" style=\"fill: #1f77b4; stroke: #1f77b4\"/>\n     <use xlink:href=\"#m720b964f83\" x=\"162.520573\" y=\"158.454043\" style=\"fill: #1f77b4; stroke: #1f77b4\"/>\n     <use xlink:href=\"#m720b964f83\" x=\"125.094213\" y=\"178.505304\" style=\"fill: #1f77b4; stroke: #1f77b4\"/>\n     <use xlink:href=\"#m720b964f83\" x=\"207.550046\" y=\"122.603759\" style=\"fill: #1f77b4; stroke: #1f77b4\"/>\n     <use xlink:href=\"#m720b964f83\" x=\"198.241253\" y=\"140.035762\" style=\"fill: #1f77b4; stroke: #1f77b4\"/>\n     <use xlink:href=\"#m720b964f83\" x=\"189.001227\" y=\"130.162941\" style=\"fill: #1f77b4; stroke: #1f77b4\"/>\n     <use xlink:href=\"#m720b964f83\" x=\"89.382708\" y=\"236.171866\" style=\"fill: #1f77b4; stroke: #1f77b4\"/>\n     <use xlink:href=\"#m720b964f83\" x=\"257.901945\" y=\"118.154101\" style=\"fill: #1f77b4; stroke: #1f77b4\"/>\n     <use xlink:href=\"#m720b964f83\" x=\"235.787304\" y=\"111.326755\" style=\"fill: #1f77b4; stroke: #1f77b4\"/>\n     <use xlink:href=\"#m720b964f83\" x=\"242.169831\" y=\"103.065193\" style=\"fill: #1f77b4; stroke: #1f77b4\"/>\n     <use xlink:href=\"#m720b964f83\" x=\"202.729966\" y=\"175.517108\" style=\"fill: #1f77b4; stroke: #1f77b4\"/>\n     <use xlink:href=\"#m720b964f83\" x=\"170.307816\" y=\"182.938671\" style=\"fill: #1f77b4; stroke: #1f77b4\"/>\n     <use xlink:href=\"#m720b964f83\" x=\"148.781809\" y=\"172.317404\" style=\"fill: #1f77b4; stroke: #1f77b4\"/>\n     <use xlink:href=\"#m720b964f83\" x=\"246.268772\" y=\"95.214642\" style=\"fill: #1f77b4; stroke: #1f77b4\"/>\n     <use xlink:href=\"#m720b964f83\" x=\"202.274036\" y=\"132.51269\" style=\"fill: #1f77b4; stroke: #1f77b4\"/>\n     <use xlink:href=\"#m720b964f83\" x=\"163.46156\" y=\"185.352672\" style=\"fill: #1f77b4; stroke: #1f77b4\"/>\n     <use xlink:href=\"#m720b964f83\" x=\"190.066082\" y=\"125.801152\" style=\"fill: #1f77b4; stroke: #1f77b4\"/>\n     <use xlink:href=\"#m720b964f83\" x=\"189.840385\" y=\"123.546863\" style=\"fill: #1f77b4; stroke: #1f77b4\"/>\n     <use xlink:href=\"#m720b964f83\" x=\"174.425428\" y=\"145.528656\" style=\"fill: #1f77b4; stroke: #1f77b4\"/>\n     <use xlink:href=\"#m720b964f83\" x=\"201.967388\" y=\"128.712365\" style=\"fill: #1f77b4; stroke: #1f77b4\"/>\n     <use xlink:href=\"#m720b964f83\" x=\"286.193763\" y=\"73.869104\" style=\"fill: #1f77b4; stroke: #1f77b4\"/>\n     <use xlink:href=\"#m720b964f83\" x=\"293.413349\" y=\"65.814054\" style=\"fill: #1f77b4; stroke: #1f77b4\"/>\n     <use xlink:href=\"#m720b964f83\" x=\"264.078123\" y=\"93.390878\" style=\"fill: #1f77b4; stroke: #1f77b4\"/>\n     <use xlink:href=\"#m720b964f83\" x=\"206.695617\" y=\"125.527418\" style=\"fill: #1f77b4; stroke: #1f77b4\"/>\n     <use xlink:href=\"#m720b964f83\" x=\"242.049637\" y=\"137.230114\" style=\"fill: #1f77b4; stroke: #1f77b4\"/>\n     <use xlink:href=\"#m720b964f83\" x=\"167.548577\" y=\"167.609042\" style=\"fill: #1f77b4; stroke: #1f77b4\"/>\n     <use xlink:href=\"#m720b964f83\" x=\"135.129015\" y=\"195.573356\" style=\"fill: #1f77b4; stroke: #1f77b4\"/>\n     <use xlink:href=\"#m720b964f83\" x=\"247.516208\" y=\"119.916671\" style=\"fill: #1f77b4; stroke: #1f77b4\"/>\n     <use xlink:href=\"#m720b964f83\" x=\"254.532421\" y=\"94.451957\" style=\"fill: #1f77b4; stroke: #1f77b4\"/>\n     <use xlink:href=\"#m720b964f83\" x=\"192.538856\" y=\"132.022997\" style=\"fill: #1f77b4; stroke: #1f77b4\"/>\n     <use xlink:href=\"#m720b964f83\" x=\"260.718904\" y=\"91.558892\" style=\"fill: #1f77b4; stroke: #1f77b4\"/>\n     <use xlink:href=\"#m720b964f83\" x=\"241.841345\" y=\"84.718306\" style=\"fill: #1f77b4; stroke: #1f77b4\"/>\n     <use xlink:href=\"#m720b964f83\" x=\"229.668172\" y=\"114.172692\" style=\"fill: #1f77b4; stroke: #1f77b4\"/>\n     <use xlink:href=\"#m720b964f83\" x=\"143.507028\" y=\"244.509485\" style=\"fill: #1f77b4; stroke: #1f77b4\"/>\n     <use xlink:href=\"#m720b964f83\" x=\"170.381913\" y=\"182.690608\" style=\"fill: #1f77b4; stroke: #1f77b4\"/>\n     <use xlink:href=\"#m720b964f83\" x=\"172.559005\" y=\"168.731022\" style=\"fill: #1f77b4; stroke: #1f77b4\"/>\n     <use xlink:href=\"#m720b964f83\" x=\"136.838729\" y=\"165.308459\" style=\"fill: #1f77b4; stroke: #1f77b4\"/>\n     <use xlink:href=\"#m720b964f83\" x=\"207.423496\" y=\"115.709721\" style=\"fill: #1f77b4; stroke: #1f77b4\"/>\n     <use xlink:href=\"#m720b964f83\" x=\"143.343215\" y=\"163.614637\" style=\"fill: #1f77b4; stroke: #1f77b4\"/>\n     <use xlink:href=\"#m720b964f83\" x=\"275.684227\" y=\"84.101202\" style=\"fill: #1f77b4; stroke: #1f77b4\"/>\n     <use xlink:href=\"#m720b964f83\" x=\"191.858315\" y=\"140.640727\" style=\"fill: #1f77b4; stroke: #1f77b4\"/>\n     <use xlink:href=\"#m720b964f83\" x=\"263.320765\" y=\"104.110755\" style=\"fill: #1f77b4; stroke: #1f77b4\"/>\n     <use xlink:href=\"#m720b964f83\" x=\"188.432202\" y=\"148.528025\" style=\"fill: #1f77b4; stroke: #1f77b4\"/>\n     <use xlink:href=\"#m720b964f83\" x=\"199.778245\" y=\"131.002217\" style=\"fill: #1f77b4; stroke: #1f77b4\"/>\n     <use xlink:href=\"#m720b964f83\" x=\"321.458331\" y=\"60.036839\" style=\"fill: #1f77b4; stroke: #1f77b4\"/>\n     <use xlink:href=\"#m720b964f83\" x=\"267.165179\" y=\"86.786076\" style=\"fill: #1f77b4; stroke: #1f77b4\"/>\n     <use xlink:href=\"#m720b964f83\" x=\"228.170929\" y=\"109.40734\" style=\"fill: #1f77b4; stroke: #1f77b4\"/>\n     <use xlink:href=\"#m720b964f83\" x=\"262.656903\" y=\"119.854334\" style=\"fill: #1f77b4; stroke: #1f77b4\"/>\n     <use xlink:href=\"#m720b964f83\" x=\"340.064002\" y=\"19.296\" style=\"fill: #1f77b4; stroke: #1f77b4\"/>\n     <use xlink:href=\"#m720b964f83\" x=\"308.01927\" y=\"86.736915\" style=\"fill: #1f77b4; stroke: #1f77b4\"/>\n     <use xlink:href=\"#m720b964f83\" x=\"243.109116\" y=\"71.713463\" style=\"fill: #1f77b4; stroke: #1f77b4\"/>\n     <use xlink:href=\"#m720b964f83\" x=\"160.038906\" y=\"164.596567\" style=\"fill: #1f77b4; stroke: #1f77b4\"/>\n     <use xlink:href=\"#m720b964f83\" x=\"214.25225\" y=\"104.355452\" style=\"fill: #1f77b4; stroke: #1f77b4\"/>\n     <use xlink:href=\"#m720b964f83\" x=\"172.380033\" y=\"170.929898\" style=\"fill: #1f77b4; stroke: #1f77b4\"/>\n     <use xlink:href=\"#m720b964f83\" x=\"232.15981\" y=\"111.463681\" style=\"fill: #1f77b4; stroke: #1f77b4\"/>\n     <use xlink:href=\"#m720b964f83\" x=\"181.586057\" y=\"179.341896\" style=\"fill: #1f77b4; stroke: #1f77b4\"/>\n     <use xlink:href=\"#m720b964f83\" x=\"45.174915\" y=\"261.216\" style=\"fill: #1f77b4; stroke: #1f77b4\"/>\n     <use xlink:href=\"#m720b964f83\" x=\"244.93467\" y=\"87.833107\" style=\"fill: #1f77b4; stroke: #1f77b4\"/>\n     <use xlink:href=\"#m720b964f83\" x=\"222.284317\" y=\"124.177381\" style=\"fill: #1f77b4; stroke: #1f77b4\"/>\n     <use xlink:href=\"#m720b964f83\" x=\"234.091471\" y=\"127.630088\" style=\"fill: #1f77b4; stroke: #1f77b4\"/>\n     <use xlink:href=\"#m720b964f83\" x=\"212.515218\" y=\"136.734115\" style=\"fill: #1f77b4; stroke: #1f77b4\"/>\n     <use xlink:href=\"#m720b964f83\" x=\"259.794491\" y=\"98.299705\" style=\"fill: #1f77b4; stroke: #1f77b4\"/>\n     <use xlink:href=\"#m720b964f83\" x=\"210.156389\" y=\"152.395396\" style=\"fill: #1f77b4; stroke: #1f77b4\"/>\n     <use xlink:href=\"#m720b964f83\" x=\"288.94942\" y=\"33.507114\" style=\"fill: #1f77b4; stroke: #1f77b4\"/>\n     <use xlink:href=\"#m720b964f83\" x=\"264.479674\" y=\"80.836738\" style=\"fill: #1f77b4; stroke: #1f77b4\"/>\n     <use xlink:href=\"#m720b964f83\" x=\"195.980941\" y=\"169.014516\" style=\"fill: #1f77b4; stroke: #1f77b4\"/>\n     <use xlink:href=\"#m720b964f83\" x=\"219.209449\" y=\"110.577907\" style=\"fill: #1f77b4; stroke: #1f77b4\"/>\n     <use xlink:href=\"#m720b964f83\" x=\"145.741512\" y=\"166.618224\" style=\"fill: #1f77b4; stroke: #1f77b4\"/>\n     <use xlink:href=\"#m720b964f83\" x=\"252.524307\" y=\"77.185717\" style=\"fill: #1f77b4; stroke: #1f77b4\"/>\n     <use xlink:href=\"#m720b964f83\" x=\"81.626332\" y=\"219.990964\" style=\"fill: #1f77b4; stroke: #1f77b4\"/>\n     <use xlink:href=\"#m720b964f83\" x=\"208.434153\" y=\"126.371401\" style=\"fill: #1f77b4; stroke: #1f77b4\"/>\n     <use xlink:href=\"#m720b964f83\" x=\"206.162695\" y=\"133.472835\" style=\"fill: #1f77b4; stroke: #1f77b4\"/>\n     <use xlink:href=\"#m720b964f83\" x=\"176.526694\" y=\"164.788648\" style=\"fill: #1f77b4; stroke: #1f77b4\"/>\n     <use xlink:href=\"#m720b964f83\" x=\"219.412246\" y=\"134.438201\" style=\"fill: #1f77b4; stroke: #1f77b4\"/>\n     <use xlink:href=\"#m720b964f83\" x=\"209.167925\" y=\"117.462642\" style=\"fill: #1f77b4; stroke: #1f77b4\"/>\n     <use xlink:href=\"#m720b964f83\" x=\"248.687929\" y=\"96.533121\" style=\"fill: #1f77b4; stroke: #1f77b4\"/>\n     <use xlink:href=\"#m720b964f83\" x=\"153.192758\" y=\"137.926584\" style=\"fill: #1f77b4; stroke: #1f77b4\"/>\n     <use xlink:href=\"#m720b964f83\" x=\"271.357459\" y=\"80.515195\" style=\"fill: #1f77b4; stroke: #1f77b4\"/>\n     <use xlink:href=\"#m720b964f83\" x=\"251.812897\" y=\"105.131591\" style=\"fill: #1f77b4; stroke: #1f77b4\"/>\n     <use xlink:href=\"#m720b964f83\" x=\"311.621911\" y=\"71.976327\" style=\"fill: #1f77b4; stroke: #1f77b4\"/>\n     <use xlink:href=\"#m720b964f83\" x=\"180.310479\" y=\"160.909208\" style=\"fill: #1f77b4; stroke: #1f77b4\"/>\n     <use xlink:href=\"#m720b964f83\" x=\"119.15391\" y=\"199.60852\" style=\"fill: #1f77b4; stroke: #1f77b4\"/>\n     <use xlink:href=\"#m720b964f83\" x=\"273.261057\" y=\"83.662313\" style=\"fill: #1f77b4; stroke: #1f77b4\"/>\n     <use xlink:href=\"#m720b964f83\" x=\"163.352052\" y=\"159.252152\" style=\"fill: #1f77b4; stroke: #1f77b4\"/>\n     <use xlink:href=\"#m720b964f83\" x=\"350.910551\" y=\"33.366715\" style=\"fill: #1f77b4; stroke: #1f77b4\"/>\n     <use xlink:href=\"#m720b964f83\" x=\"117.450509\" y=\"193.632756\" style=\"fill: #1f77b4; stroke: #1f77b4\"/>\n     <use xlink:href=\"#m720b964f83\" x=\"228.947016\" y=\"109.644383\" style=\"fill: #1f77b4; stroke: #1f77b4\"/>\n     <use xlink:href=\"#m720b964f83\" x=\"184.31205\" y=\"138.701631\" style=\"fill: #1f77b4; stroke: #1f77b4\"/>\n     <use xlink:href=\"#m720b964f83\" x=\"236.023905\" y=\"117.170064\" style=\"fill: #1f77b4; stroke: #1f77b4\"/>\n     <use xlink:href=\"#m720b964f83\" x=\"196.537558\" y=\"129.205968\" style=\"fill: #1f77b4; stroke: #1f77b4\"/>\n     <use xlink:href=\"#m720b964f83\" x=\"250.497405\" y=\"80.565057\" style=\"fill: #1f77b4; stroke: #1f77b4\"/>\n     <use xlink:href=\"#m720b964f83\" x=\"169.119097\" y=\"145.702049\" style=\"fill: #1f77b4; stroke: #1f77b4\"/>\n     <use xlink:href=\"#m720b964f83\" x=\"117.020527\" y=\"199.763039\" style=\"fill: #1f77b4; stroke: #1f77b4\"/>\n     <use xlink:href=\"#m720b964f83\" x=\"283.976127\" y=\"84.730723\" style=\"fill: #1f77b4; stroke: #1f77b4\"/>\n     <use xlink:href=\"#m720b964f83\" x=\"207.227962\" y=\"126.206363\" style=\"fill: #1f77b4; stroke: #1f77b4\"/>\n     <use xlink:href=\"#m720b964f83\" x=\"245.428236\" y=\"112.813182\" style=\"fill: #1f77b4; stroke: #1f77b4\"/>\n     <use xlink:href=\"#m720b964f83\" x=\"157.199731\" y=\"172.743741\" style=\"fill: #1f77b4; stroke: #1f77b4\"/>\n    </g>\n   </g>\n   <g id=\"PathCollection_2\">\n    <defs>\n     <path id=\"mded935e8cf\" d=\"M 0 -3 \nL -0.673542 -0.927051 \nL -2.85317 -0.927051 \nL -1.089814 0.354102 \nL -1.763356 2.427051 \nL -0 1.145898 \nL 1.763356 2.427051 \nL 1.089814 0.354102 \nL 2.85317 -0.927051 \nL 0.673542 -0.927051 \nz\n\" style=\"stroke: #ff7f0e\"/>\n    </defs>\n    <g clip-path=\"url(#pd842eb59cd)\">\n     <use xlink:href=\"#mded935e8cf\" x=\"207.225714\" y=\"160.90047\" style=\"fill: #ff7f0e; stroke: #ff7f0e\"/>\n     <use xlink:href=\"#mded935e8cf\" x=\"297.412453\" y=\"61.010751\" style=\"fill: #ff7f0e; stroke: #ff7f0e\"/>\n     <use xlink:href=\"#mded935e8cf\" x=\"223.89851\" y=\"97.266375\" style=\"fill: #ff7f0e; stroke: #ff7f0e\"/>\n     <use xlink:href=\"#mded935e8cf\" x=\"256.078063\" y=\"127.767909\" style=\"fill: #ff7f0e; stroke: #ff7f0e\"/>\n     <use xlink:href=\"#mded935e8cf\" x=\"121.358435\" y=\"209.376693\" style=\"fill: #ff7f0e; stroke: #ff7f0e\"/>\n     <use xlink:href=\"#mded935e8cf\" x=\"209.559732\" y=\"141.701438\" style=\"fill: #ff7f0e; stroke: #ff7f0e\"/>\n     <use xlink:href=\"#mded935e8cf\" x=\"244.329066\" y=\"141.630579\" style=\"fill: #ff7f0e; stroke: #ff7f0e\"/>\n     <use xlink:href=\"#mded935e8cf\" x=\"257.42918\" y=\"115.015425\" style=\"fill: #ff7f0e; stroke: #ff7f0e\"/>\n     <use xlink:href=\"#mded935e8cf\" x=\"328.510186\" y=\"37.190909\" style=\"fill: #ff7f0e; stroke: #ff7f0e\"/>\n     <use xlink:href=\"#mded935e8cf\" x=\"191.488801\" y=\"138.917855\" style=\"fill: #ff7f0e; stroke: #ff7f0e\"/>\n     <use xlink:href=\"#mded935e8cf\" x=\"178.573307\" y=\"177.608882\" style=\"fill: #ff7f0e; stroke: #ff7f0e\"/>\n     <use xlink:href=\"#mded935e8cf\" x=\"301.772511\" y=\"86.448691\" style=\"fill: #ff7f0e; stroke: #ff7f0e\"/>\n     <use xlink:href=\"#mded935e8cf\" x=\"208.383026\" y=\"145.947646\" style=\"fill: #ff7f0e; stroke: #ff7f0e\"/>\n     <use xlink:href=\"#mded935e8cf\" x=\"101.575848\" y=\"231.039011\" style=\"fill: #ff7f0e; stroke: #ff7f0e\"/>\n     <use xlink:href=\"#mded935e8cf\" x=\"259.326914\" y=\"103.193006\" style=\"fill: #ff7f0e; stroke: #ff7f0e\"/>\n     <use xlink:href=\"#mded935e8cf\" x=\"215.625585\" y=\"161.656241\" style=\"fill: #ff7f0e; stroke: #ff7f0e\"/>\n     <use xlink:href=\"#mded935e8cf\" x=\"275.703499\" y=\"80.68938\" style=\"fill: #ff7f0e; stroke: #ff7f0e\"/>\n     <use xlink:href=\"#mded935e8cf\" x=\"213.991117\" y=\"120.548411\" style=\"fill: #ff7f0e; stroke: #ff7f0e\"/>\n     <use xlink:href=\"#mded935e8cf\" x=\"276.191094\" y=\"88.814766\" style=\"fill: #ff7f0e; stroke: #ff7f0e\"/>\n     <use xlink:href=\"#mded935e8cf\" x=\"149.895102\" y=\"203.687295\" style=\"fill: #ff7f0e; stroke: #ff7f0e\"/>\n     <use xlink:href=\"#mded935e8cf\" x=\"277.195378\" y=\"83.480731\" style=\"fill: #ff7f0e; stroke: #ff7f0e\"/>\n     <use xlink:href=\"#mded935e8cf\" x=\"149.801117\" y=\"208.404761\" style=\"fill: #ff7f0e; stroke: #ff7f0e\"/>\n     <use xlink:href=\"#mded935e8cf\" x=\"190.594807\" y=\"169.76669\" style=\"fill: #ff7f0e; stroke: #ff7f0e\"/>\n     <use xlink:href=\"#mded935e8cf\" x=\"208.884658\" y=\"178.9766\" style=\"fill: #ff7f0e; stroke: #ff7f0e\"/>\n     <use xlink:href=\"#mded935e8cf\" x=\"247.5927\" y=\"137.006147\" style=\"fill: #ff7f0e; stroke: #ff7f0e\"/>\n     <use xlink:href=\"#mded935e8cf\" x=\"369.82946\" y=\"32.573226\" style=\"fill: #ff7f0e; stroke: #ff7f0e\"/>\n     <use xlink:href=\"#mded935e8cf\" x=\"256.582375\" y=\"135.515496\" style=\"fill: #ff7f0e; stroke: #ff7f0e\"/>\n     <use xlink:href=\"#mded935e8cf\" x=\"174.650276\" y=\"170.940921\" style=\"fill: #ff7f0e; stroke: #ff7f0e\"/>\n     <use xlink:href=\"#mded935e8cf\" x=\"185.191426\" y=\"174.257874\" style=\"fill: #ff7f0e; stroke: #ff7f0e\"/>\n     <use xlink:href=\"#mded935e8cf\" x=\"310.115566\" y=\"58.497912\" style=\"fill: #ff7f0e; stroke: #ff7f0e\"/>\n     <use xlink:href=\"#mded935e8cf\" x=\"170.10007\" y=\"190.943516\" style=\"fill: #ff7f0e; stroke: #ff7f0e\"/>\n     <use xlink:href=\"#mded935e8cf\" x=\"75.052639\" y=\"260.013067\" style=\"fill: #ff7f0e; stroke: #ff7f0e\"/>\n     <use xlink:href=\"#mded935e8cf\" x=\"247.968388\" y=\"137.319189\" style=\"fill: #ff7f0e; stroke: #ff7f0e\"/>\n     <use xlink:href=\"#mded935e8cf\" x=\"320.503511\" y=\"84.605475\" style=\"fill: #ff7f0e; stroke: #ff7f0e\"/>\n     <use xlink:href=\"#mded935e8cf\" x=\"217.495101\" y=\"129.383324\" style=\"fill: #ff7f0e; stroke: #ff7f0e\"/>\n     <use xlink:href=\"#mded935e8cf\" x=\"161.107858\" y=\"201.914999\" style=\"fill: #ff7f0e; stroke: #ff7f0e\"/>\n     <use xlink:href=\"#mded935e8cf\" x=\"177.283499\" y=\"193.626147\" style=\"fill: #ff7f0e; stroke: #ff7f0e\"/>\n     <use xlink:href=\"#mded935e8cf\" x=\"200.642074\" y=\"157.851334\" style=\"fill: #ff7f0e; stroke: #ff7f0e\"/>\n     <use xlink:href=\"#mded935e8cf\" x=\"221.529222\" y=\"148.765611\" style=\"fill: #ff7f0e; stroke: #ff7f0e\"/>\n     <use xlink:href=\"#mded935e8cf\" x=\"310.647341\" y=\"77.703895\" style=\"fill: #ff7f0e; stroke: #ff7f0e\"/>\n     <use xlink:href=\"#mded935e8cf\" x=\"315.2598\" y=\"70.400744\" style=\"fill: #ff7f0e; stroke: #ff7f0e\"/>\n     <use xlink:href=\"#mded935e8cf\" x=\"178.035866\" y=\"144.702604\" style=\"fill: #ff7f0e; stroke: #ff7f0e\"/>\n     <use xlink:href=\"#mded935e8cf\" x=\"246.9802\" y=\"115.753058\" style=\"fill: #ff7f0e; stroke: #ff7f0e\"/>\n     <use xlink:href=\"#mded935e8cf\" x=\"140.058747\" y=\"202.548373\" style=\"fill: #ff7f0e; stroke: #ff7f0e\"/>\n     <use xlink:href=\"#mded935e8cf\" x=\"339.413537\" y=\"55.116179\" style=\"fill: #ff7f0e; stroke: #ff7f0e\"/>\n     <use xlink:href=\"#mded935e8cf\" x=\"340.581377\" y=\"31.473569\" style=\"fill: #ff7f0e; stroke: #ff7f0e\"/>\n     <use xlink:href=\"#mded935e8cf\" x=\"200.531952\" y=\"149.327842\" style=\"fill: #ff7f0e; stroke: #ff7f0e\"/>\n     <use xlink:href=\"#mded935e8cf\" x=\"257.819578\" y=\"110.905352\" style=\"fill: #ff7f0e; stroke: #ff7f0e\"/>\n     <use xlink:href=\"#mded935e8cf\" x=\"157.791691\" y=\"187.33702\" style=\"fill: #ff7f0e; stroke: #ff7f0e\"/>\n     <use xlink:href=\"#mded935e8cf\" x=\"220.444011\" y=\"121.747782\" style=\"fill: #ff7f0e; stroke: #ff7f0e\"/>\n     <use xlink:href=\"#mded935e8cf\" x=\"224.733962\" y=\"135.800545\" style=\"fill: #ff7f0e; stroke: #ff7f0e\"/>\n     <use xlink:href=\"#mded935e8cf\" x=\"260.997097\" y=\"113.927971\" style=\"fill: #ff7f0e; stroke: #ff7f0e\"/>\n     <use xlink:href=\"#mded935e8cf\" x=\"249.192862\" y=\"106.453018\" style=\"fill: #ff7f0e; stroke: #ff7f0e\"/>\n     <use xlink:href=\"#mded935e8cf\" x=\"258.071155\" y=\"123.39482\" style=\"fill: #ff7f0e; stroke: #ff7f0e\"/>\n     <use xlink:href=\"#mded935e8cf\" x=\"154.524743\" y=\"158.966955\" style=\"fill: #ff7f0e; stroke: #ff7f0e\"/>\n     <use xlink:href=\"#mded935e8cf\" x=\"250.034151\" y=\"113.339452\" style=\"fill: #ff7f0e; stroke: #ff7f0e\"/>\n     <use xlink:href=\"#mded935e8cf\" x=\"236.814929\" y=\"121.888931\" style=\"fill: #ff7f0e; stroke: #ff7f0e\"/>\n     <use xlink:href=\"#mded935e8cf\" x=\"153.203292\" y=\"170.354601\" style=\"fill: #ff7f0e; stroke: #ff7f0e\"/>\n     <use xlink:href=\"#mded935e8cf\" x=\"242.331328\" y=\"138.708189\" style=\"fill: #ff7f0e; stroke: #ff7f0e\"/>\n     <use xlink:href=\"#mded935e8cf\" x=\"206.13424\" y=\"136.084529\" style=\"fill: #ff7f0e; stroke: #ff7f0e\"/>\n     <use xlink:href=\"#mded935e8cf\" x=\"187.725897\" y=\"164.953183\" style=\"fill: #ff7f0e; stroke: #ff7f0e\"/>\n     <use xlink:href=\"#mded935e8cf\" x=\"159.52874\" y=\"190.647765\" style=\"fill: #ff7f0e; stroke: #ff7f0e\"/>\n     <use xlink:href=\"#mded935e8cf\" x=\"241.18488\" y=\"130.15304\" style=\"fill: #ff7f0e; stroke: #ff7f0e\"/>\n     <use xlink:href=\"#mded935e8cf\" x=\"235.844276\" y=\"114.981941\" style=\"fill: #ff7f0e; stroke: #ff7f0e\"/>\n     <use xlink:href=\"#mded935e8cf\" x=\"245.194814\" y=\"121.331571\" style=\"fill: #ff7f0e; stroke: #ff7f0e\"/>\n     <use xlink:href=\"#mded935e8cf\" x=\"174.916701\" y=\"172.824832\" style=\"fill: #ff7f0e; stroke: #ff7f0e\"/>\n     <use xlink:href=\"#mded935e8cf\" x=\"299.469476\" y=\"71.029146\" style=\"fill: #ff7f0e; stroke: #ff7f0e\"/>\n     <use xlink:href=\"#mded935e8cf\" x=\"229.640766\" y=\"135.628255\" style=\"fill: #ff7f0e; stroke: #ff7f0e\"/>\n     <use xlink:href=\"#mded935e8cf\" x=\"165.422308\" y=\"182.749171\" style=\"fill: #ff7f0e; stroke: #ff7f0e\"/>\n     <use xlink:href=\"#mded935e8cf\" x=\"238.454758\" y=\"152.333108\" style=\"fill: #ff7f0e; stroke: #ff7f0e\"/>\n     <use xlink:href=\"#mded935e8cf\" x=\"306.071516\" y=\"77.590363\" style=\"fill: #ff7f0e; stroke: #ff7f0e\"/>\n     <use xlink:href=\"#mded935e8cf\" x=\"267.818761\" y=\"110.924483\" style=\"fill: #ff7f0e; stroke: #ff7f0e\"/>\n     <use xlink:href=\"#mded935e8cf\" x=\"311.79622\" y=\"64.173896\" style=\"fill: #ff7f0e; stroke: #ff7f0e\"/>\n     <use xlink:href=\"#mded935e8cf\" x=\"218.211285\" y=\"155.20592\" style=\"fill: #ff7f0e; stroke: #ff7f0e\"/>\n     <use xlink:href=\"#mded935e8cf\" x=\"315.676695\" y=\"71.586871\" style=\"fill: #ff7f0e; stroke: #ff7f0e\"/>\n     <use xlink:href=\"#mded935e8cf\" x=\"302.180474\" y=\"78.184356\" style=\"fill: #ff7f0e; stroke: #ff7f0e\"/>\n     <use xlink:href=\"#mded935e8cf\" x=\"223.483695\" y=\"146.978409\" style=\"fill: #ff7f0e; stroke: #ff7f0e\"/>\n     <use xlink:href=\"#mded935e8cf\" x=\"215.451512\" y=\"150.05767\" style=\"fill: #ff7f0e; stroke: #ff7f0e\"/>\n     <use xlink:href=\"#mded935e8cf\" x=\"204.995884\" y=\"141.538202\" style=\"fill: #ff7f0e; stroke: #ff7f0e\"/>\n     <use xlink:href=\"#mded935e8cf\" x=\"303.950612\" y=\"66.575849\" style=\"fill: #ff7f0e; stroke: #ff7f0e\"/>\n     <use xlink:href=\"#mded935e8cf\" x=\"282.727264\" y=\"84.016961\" style=\"fill: #ff7f0e; stroke: #ff7f0e\"/>\n     <use xlink:href=\"#mded935e8cf\" x=\"204.196463\" y=\"156.040311\" style=\"fill: #ff7f0e; stroke: #ff7f0e\"/>\n     <use xlink:href=\"#mded935e8cf\" x=\"193.729103\" y=\"160.392441\" style=\"fill: #ff7f0e; stroke: #ff7f0e\"/>\n     <use xlink:href=\"#mded935e8cf\" x=\"179.626894\" y=\"171.726372\" style=\"fill: #ff7f0e; stroke: #ff7f0e\"/>\n     <use xlink:href=\"#mded935e8cf\" x=\"249.37762\" y=\"87.950586\" style=\"fill: #ff7f0e; stroke: #ff7f0e\"/>\n     <use xlink:href=\"#mded935e8cf\" x=\"174.201876\" y=\"171.298668\" style=\"fill: #ff7f0e; stroke: #ff7f0e\"/>\n     <use xlink:href=\"#mded935e8cf\" x=\"307.177958\" y=\"61.474971\" style=\"fill: #ff7f0e; stroke: #ff7f0e\"/>\n     <use xlink:href=\"#mded935e8cf\" x=\"220.677277\" y=\"115.183004\" style=\"fill: #ff7f0e; stroke: #ff7f0e\"/>\n     <use xlink:href=\"#mded935e8cf\" x=\"167.272095\" y=\"187.962312\" style=\"fill: #ff7f0e; stroke: #ff7f0e\"/>\n     <use xlink:href=\"#mded935e8cf\" x=\"296.613721\" y=\"63.173213\" style=\"fill: #ff7f0e; stroke: #ff7f0e\"/>\n     <use xlink:href=\"#mded935e8cf\" x=\"262.7258\" y=\"87.399833\" style=\"fill: #ff7f0e; stroke: #ff7f0e\"/>\n     <use xlink:href=\"#mded935e8cf\" x=\"257.386958\" y=\"117.350721\" style=\"fill: #ff7f0e; stroke: #ff7f0e\"/>\n     <use xlink:href=\"#mded935e8cf\" x=\"256.065973\" y=\"104.661961\" style=\"fill: #ff7f0e; stroke: #ff7f0e\"/>\n     <use xlink:href=\"#mded935e8cf\" x=\"266.786697\" y=\"127.2579\" style=\"fill: #ff7f0e; stroke: #ff7f0e\"/>\n     <use xlink:href=\"#mded935e8cf\" x=\"270.037125\" y=\"100.45501\" style=\"fill: #ff7f0e; stroke: #ff7f0e\"/>\n     <use xlink:href=\"#mded935e8cf\" x=\"183.400291\" y=\"168.056132\" style=\"fill: #ff7f0e; stroke: #ff7f0e\"/>\n     <use xlink:href=\"#mded935e8cf\" x=\"157.426654\" y=\"176.20386\" style=\"fill: #ff7f0e; stroke: #ff7f0e\"/>\n     <use xlink:href=\"#mded935e8cf\" x=\"180.720726\" y=\"163.072503\" style=\"fill: #ff7f0e; stroke: #ff7f0e\"/>\n     <use xlink:href=\"#mded935e8cf\" x=\"203.69307\" y=\"121.123268\" style=\"fill: #ff7f0e; stroke: #ff7f0e\"/>\n     <use xlink:href=\"#mded935e8cf\" x=\"295.914013\" y=\"102.344823\" style=\"fill: #ff7f0e; stroke: #ff7f0e\"/>\n    </g>\n   </g>\n   <g id=\"matplotlib.axis_1\">\n    <g id=\"xtick_1\">\n     <g id=\"line2d_1\">\n      <defs>\n       <path id=\"m12f3eb4fa9\" d=\"M 0 0 \nL 0 3.5 \n\" style=\"stroke: #000000; stroke-width: 0.8\"/>\n      </defs>\n      <g>\n       <use xlink:href=\"#m12f3eb4fa9\" x=\"36.360254\" y=\"273.312\" style=\"stroke: #000000; stroke-width: 0.8\"/>\n      </g>\n     </g>\n     <g id=\"text_1\">\n      <!-- −3 -->\n      <g transform=\"translate(28.98916 287.910437) scale(0.1 -0.1)\">\n       <defs>\n        <path id=\"DejaVuSans-2212\" d=\"M 678 2272 \nL 4684 2272 \nL 4684 1741 \nL 678 1741 \nL 678 2272 \nz\n\" transform=\"scale(0.015625)\"/>\n        <path id=\"DejaVuSans-33\" d=\"M 2597 2516 \nQ 3050 2419 3304 2112 \nQ 3559 1806 3559 1356 \nQ 3559 666 3084 287 \nQ 2609 -91 1734 -91 \nQ 1441 -91 1130 -33 \nQ 819 25 488 141 \nL 488 750 \nQ 750 597 1062 519 \nQ 1375 441 1716 441 \nQ 2309 441 2620 675 \nQ 2931 909 2931 1356 \nQ 2931 1769 2642 2001 \nQ 2353 2234 1838 2234 \nL 1294 2234 \nL 1294 2753 \nL 1863 2753 \nQ 2328 2753 2575 2939 \nQ 2822 3125 2822 3475 \nQ 2822 3834 2567 4026 \nQ 2313 4219 1838 4219 \nQ 1578 4219 1281 4162 \nQ 984 4106 628 3988 \nL 628 4550 \nQ 988 4650 1302 4700 \nQ 1616 4750 1894 4750 \nQ 2613 4750 3031 4423 \nQ 3450 4097 3450 3541 \nQ 3450 3153 3228 2886 \nQ 3006 2619 2597 2516 \nz\n\" transform=\"scale(0.015625)\"/>\n       </defs>\n       <use xlink:href=\"#DejaVuSans-2212\"/>\n       <use xlink:href=\"#DejaVuSans-33\" x=\"83.789062\"/>\n      </g>\n     </g>\n    </g>\n    <g id=\"xtick_2\">\n     <g id=\"line2d_2\">\n      <g>\n       <use xlink:href=\"#m12f3eb4fa9\" x=\"86.442844\" y=\"273.312\" style=\"stroke: #000000; stroke-width: 0.8\"/>\n      </g>\n     </g>\n     <g id=\"text_2\">\n      <!-- −2 -->\n      <g transform=\"translate(79.07175 287.910437) scale(0.1 -0.1)\">\n       <defs>\n        <path id=\"DejaVuSans-32\" d=\"M 1228 531 \nL 3431 531 \nL 3431 0 \nL 469 0 \nL 469 531 \nQ 828 903 1448 1529 \nQ 2069 2156 2228 2338 \nQ 2531 2678 2651 2914 \nQ 2772 3150 2772 3378 \nQ 2772 3750 2511 3984 \nQ 2250 4219 1831 4219 \nQ 1534 4219 1204 4116 \nQ 875 4013 500 3803 \nL 500 4441 \nQ 881 4594 1212 4672 \nQ 1544 4750 1819 4750 \nQ 2544 4750 2975 4387 \nQ 3406 4025 3406 3419 \nQ 3406 3131 3298 2873 \nQ 3191 2616 2906 2266 \nQ 2828 2175 2409 1742 \nQ 1991 1309 1228 531 \nz\n\" transform=\"scale(0.015625)\"/>\n       </defs>\n       <use xlink:href=\"#DejaVuSans-2212\"/>\n       <use xlink:href=\"#DejaVuSans-32\" x=\"83.789062\"/>\n      </g>\n     </g>\n    </g>\n    <g id=\"xtick_3\">\n     <g id=\"line2d_3\">\n      <g>\n       <use xlink:href=\"#m12f3eb4fa9\" x=\"136.525434\" y=\"273.312\" style=\"stroke: #000000; stroke-width: 0.8\"/>\n      </g>\n     </g>\n     <g id=\"text_3\">\n      <!-- −1 -->\n      <g transform=\"translate(129.154341 287.910437) scale(0.1 -0.1)\">\n       <defs>\n        <path id=\"DejaVuSans-31\" d=\"M 794 531 \nL 1825 531 \nL 1825 4091 \nL 703 3866 \nL 703 4441 \nL 1819 4666 \nL 2450 4666 \nL 2450 531 \nL 3481 531 \nL 3481 0 \nL 794 0 \nL 794 531 \nz\n\" transform=\"scale(0.015625)\"/>\n       </defs>\n       <use xlink:href=\"#DejaVuSans-2212\"/>\n       <use xlink:href=\"#DejaVuSans-31\" x=\"83.789062\"/>\n      </g>\n     </g>\n    </g>\n    <g id=\"xtick_4\">\n     <g id=\"line2d_4\">\n      <g>\n       <use xlink:href=\"#m12f3eb4fa9\" x=\"186.608025\" y=\"273.312\" style=\"stroke: #000000; stroke-width: 0.8\"/>\n      </g>\n     </g>\n     <g id=\"text_4\">\n      <!-- 0 -->\n      <g transform=\"translate(183.426775 287.910437) scale(0.1 -0.1)\">\n       <defs>\n        <path id=\"DejaVuSans-30\" d=\"M 2034 4250 \nQ 1547 4250 1301 3770 \nQ 1056 3291 1056 2328 \nQ 1056 1369 1301 889 \nQ 1547 409 2034 409 \nQ 2525 409 2770 889 \nQ 3016 1369 3016 2328 \nQ 3016 3291 2770 3770 \nQ 2525 4250 2034 4250 \nz\nM 2034 4750 \nQ 2819 4750 3233 4129 \nQ 3647 3509 3647 2328 \nQ 3647 1150 3233 529 \nQ 2819 -91 2034 -91 \nQ 1250 -91 836 529 \nQ 422 1150 422 2328 \nQ 422 3509 836 4129 \nQ 1250 4750 2034 4750 \nz\n\" transform=\"scale(0.015625)\"/>\n       </defs>\n       <use xlink:href=\"#DejaVuSans-30\"/>\n      </g>\n     </g>\n    </g>\n    <g id=\"xtick_5\">\n     <g id=\"line2d_5\">\n      <g>\n       <use xlink:href=\"#m12f3eb4fa9\" x=\"236.690615\" y=\"273.312\" style=\"stroke: #000000; stroke-width: 0.8\"/>\n      </g>\n     </g>\n     <g id=\"text_5\">\n      <!-- 1 -->\n      <g transform=\"translate(233.509365 287.910437) scale(0.1 -0.1)\">\n       <use xlink:href=\"#DejaVuSans-31\"/>\n      </g>\n     </g>\n    </g>\n    <g id=\"xtick_6\">\n     <g id=\"line2d_6\">\n      <g>\n       <use xlink:href=\"#m12f3eb4fa9\" x=\"286.773206\" y=\"273.312\" style=\"stroke: #000000; stroke-width: 0.8\"/>\n      </g>\n     </g>\n     <g id=\"text_6\">\n      <!-- 2 -->\n      <g transform=\"translate(283.591956 287.910437) scale(0.1 -0.1)\">\n       <use xlink:href=\"#DejaVuSans-32\"/>\n      </g>\n     </g>\n    </g>\n    <g id=\"xtick_7\">\n     <g id=\"line2d_7\">\n      <g>\n       <use xlink:href=\"#m12f3eb4fa9\" x=\"336.855796\" y=\"273.312\" style=\"stroke: #000000; stroke-width: 0.8\"/>\n      </g>\n     </g>\n     <g id=\"text_7\">\n      <!-- 3 -->\n      <g transform=\"translate(333.674546 287.910437) scale(0.1 -0.1)\">\n       <use xlink:href=\"#DejaVuSans-33\"/>\n      </g>\n     </g>\n    </g>\n   </g>\n   <g id=\"matplotlib.axis_2\">\n    <g id=\"ytick_1\">\n     <g id=\"line2d_8\">\n      <defs>\n       <path id=\"ma4ed4c5776\" d=\"M 0 0 \nL -3.5 0 \n\" style=\"stroke: #000000; stroke-width: 0.8\"/>\n      </defs>\n      <g>\n       <use xlink:href=\"#ma4ed4c5776\" x=\"28.942188\" y=\"250.287042\" style=\"stroke: #000000; stroke-width: 0.8\"/>\n      </g>\n     </g>\n     <g id=\"text_8\">\n      <!-- −4 -->\n      <g transform=\"translate(7.2 254.08626) scale(0.1 -0.1)\">\n       <defs>\n        <path id=\"DejaVuSans-34\" d=\"M 2419 4116 \nL 825 1625 \nL 2419 1625 \nL 2419 4116 \nz\nM 2253 4666 \nL 3047 4666 \nL 3047 1625 \nL 3713 1625 \nL 3713 1100 \nL 3047 1100 \nL 3047 0 \nL 2419 0 \nL 2419 1100 \nL 313 1100 \nL 313 1709 \nL 2253 4666 \nz\n\" transform=\"scale(0.015625)\"/>\n       </defs>\n       <use xlink:href=\"#DejaVuSans-2212\"/>\n       <use xlink:href=\"#DejaVuSans-34\" x=\"83.789062\"/>\n      </g>\n     </g>\n    </g>\n    <g id=\"ytick_2\">\n     <g id=\"line2d_9\">\n      <g>\n       <use xlink:href=\"#ma4ed4c5776\" x=\"28.942188\" y=\"209.472072\" style=\"stroke: #000000; stroke-width: 0.8\"/>\n      </g>\n     </g>\n     <g id=\"text_9\">\n      <!-- −2 -->\n      <g transform=\"translate(7.2 213.271291) scale(0.1 -0.1)\">\n       <use xlink:href=\"#DejaVuSans-2212\"/>\n       <use xlink:href=\"#DejaVuSans-32\" x=\"83.789062\"/>\n      </g>\n     </g>\n    </g>\n    <g id=\"ytick_3\">\n     <g id=\"line2d_10\">\n      <g>\n       <use xlink:href=\"#ma4ed4c5776\" x=\"28.942188\" y=\"168.657102\" style=\"stroke: #000000; stroke-width: 0.8\"/>\n      </g>\n     </g>\n     <g id=\"text_10\">\n      <!-- 0 -->\n      <g transform=\"translate(15.579688 172.456321) scale(0.1 -0.1)\">\n       <use xlink:href=\"#DejaVuSans-30\"/>\n      </g>\n     </g>\n    </g>\n    <g id=\"ytick_4\">\n     <g id=\"line2d_11\">\n      <g>\n       <use xlink:href=\"#ma4ed4c5776\" x=\"28.942188\" y=\"127.842132\" style=\"stroke: #000000; stroke-width: 0.8\"/>\n      </g>\n     </g>\n     <g id=\"text_11\">\n      <!-- 2 -->\n      <g transform=\"translate(15.579688 131.641351) scale(0.1 -0.1)\">\n       <use xlink:href=\"#DejaVuSans-32\"/>\n      </g>\n     </g>\n    </g>\n    <g id=\"ytick_5\">\n     <g id=\"line2d_12\">\n      <g>\n       <use xlink:href=\"#ma4ed4c5776\" x=\"28.942188\" y=\"87.027163\" style=\"stroke: #000000; stroke-width: 0.8\"/>\n      </g>\n     </g>\n     <g id=\"text_12\">\n      <!-- 4 -->\n      <g transform=\"translate(15.579688 90.826381) scale(0.1 -0.1)\">\n       <use xlink:href=\"#DejaVuSans-34\"/>\n      </g>\n     </g>\n    </g>\n    <g id=\"ytick_6\">\n     <g id=\"line2d_13\">\n      <g>\n       <use xlink:href=\"#ma4ed4c5776\" x=\"28.942188\" y=\"46.212193\" style=\"stroke: #000000; stroke-width: 0.8\"/>\n      </g>\n     </g>\n     <g id=\"text_13\">\n      <!-- 6 -->\n      <g transform=\"translate(15.579688 50.011412) scale(0.1 -0.1)\">\n       <defs>\n        <path id=\"DejaVuSans-36\" d=\"M 2113 2584 \nQ 1688 2584 1439 2293 \nQ 1191 2003 1191 1497 \nQ 1191 994 1439 701 \nQ 1688 409 2113 409 \nQ 2538 409 2786 701 \nQ 3034 994 3034 1497 \nQ 3034 2003 2786 2293 \nQ 2538 2584 2113 2584 \nz\nM 3366 4563 \nL 3366 3988 \nQ 3128 4100 2886 4159 \nQ 2644 4219 2406 4219 \nQ 1781 4219 1451 3797 \nQ 1122 3375 1075 2522 \nQ 1259 2794 1537 2939 \nQ 1816 3084 2150 3084 \nQ 2853 3084 3261 2657 \nQ 3669 2231 3669 1497 \nQ 3669 778 3244 343 \nQ 2819 -91 2113 -91 \nQ 1303 -91 875 529 \nQ 447 1150 447 2328 \nQ 447 3434 972 4092 \nQ 1497 4750 2381 4750 \nQ 2619 4750 2861 4703 \nQ 3103 4656 3366 4563 \nz\n\" transform=\"scale(0.015625)\"/>\n       </defs>\n       <use xlink:href=\"#DejaVuSans-36\"/>\n      </g>\n     </g>\n    </g>\n   </g>\n   <g id=\"patch_3\">\n    <path d=\"M 28.942188 273.312 \nL 28.942188 7.2 \n\" style=\"fill: none; stroke: #000000; stroke-width: 0.8; stroke-linejoin: miter; stroke-linecap: square\"/>\n   </g>\n   <g id=\"patch_4\">\n    <path d=\"M 386.062188 273.312 \nL 386.062188 7.2 \n\" style=\"fill: none; stroke: #000000; stroke-width: 0.8; stroke-linejoin: miter; stroke-linecap: square\"/>\n   </g>\n   <g id=\"patch_5\">\n    <path d=\"M 28.942188 273.312 \nL 386.062188 273.312 \n\" style=\"fill: none; stroke: #000000; stroke-width: 0.8; stroke-linejoin: miter; stroke-linecap: square\"/>\n   </g>\n   <g id=\"patch_6\">\n    <path d=\"M 28.942188 7.2 \nL 386.062188 7.2 \n\" style=\"fill: none; stroke: #000000; stroke-width: 0.8; stroke-linejoin: miter; stroke-linecap: square\"/>\n   </g>\n   <g id=\"legend_1\">\n    <g id=\"patch_7\">\n     <path d=\"M 35.942188 44.55625 \nL 120.995312 44.55625 \nQ 122.995312 44.55625 122.995312 42.55625 \nL 122.995312 14.2 \nQ 122.995312 12.2 120.995312 12.2 \nL 35.942188 12.2 \nQ 33.942188 12.2 33.942188 14.2 \nL 33.942188 42.55625 \nQ 33.942188 44.55625 35.942188 44.55625 \nz\n\" style=\"fill: #ffffff; opacity: 0.8; stroke: #cccccc; stroke-linejoin: miter\"/>\n    </g>\n    <g id=\"PathCollection_3\">\n     <g>\n      <use xlink:href=\"#m720b964f83\" x=\"47.942188\" y=\"21.173437\" style=\"fill: #1f77b4; stroke: #1f77b4\"/>\n     </g>\n    </g>\n    <g id=\"text_14\">\n     <!-- Generated -->\n     <g transform=\"translate(65.942188 23.798437) scale(0.1 -0.1)\">\n      <defs>\n       <path id=\"DejaVuSans-47\" d=\"M 3809 666 \nL 3809 1919 \nL 2778 1919 \nL 2778 2438 \nL 4434 2438 \nL 4434 434 \nQ 4069 175 3628 42 \nQ 3188 -91 2688 -91 \nQ 1594 -91 976 548 \nQ 359 1188 359 2328 \nQ 359 3472 976 4111 \nQ 1594 4750 2688 4750 \nQ 3144 4750 3555 4637 \nQ 3966 4525 4313 4306 \nL 4313 3634 \nQ 3963 3931 3569 4081 \nQ 3175 4231 2741 4231 \nQ 1884 4231 1454 3753 \nQ 1025 3275 1025 2328 \nQ 1025 1384 1454 906 \nQ 1884 428 2741 428 \nQ 3075 428 3337 486 \nQ 3600 544 3809 666 \nz\n\" transform=\"scale(0.015625)\"/>\n       <path id=\"DejaVuSans-65\" d=\"M 3597 1894 \nL 3597 1613 \nL 953 1613 \nQ 991 1019 1311 708 \nQ 1631 397 2203 397 \nQ 2534 397 2845 478 \nQ 3156 559 3463 722 \nL 3463 178 \nQ 3153 47 2828 -22 \nQ 2503 -91 2169 -91 \nQ 1331 -91 842 396 \nQ 353 884 353 1716 \nQ 353 2575 817 3079 \nQ 1281 3584 2069 3584 \nQ 2775 3584 3186 3129 \nQ 3597 2675 3597 1894 \nz\nM 3022 2063 \nQ 3016 2534 2758 2815 \nQ 2500 3097 2075 3097 \nQ 1594 3097 1305 2825 \nQ 1016 2553 972 2059 \nL 3022 2063 \nz\n\" transform=\"scale(0.015625)\"/>\n       <path id=\"DejaVuSans-6e\" d=\"M 3513 2113 \nL 3513 0 \nL 2938 0 \nL 2938 2094 \nQ 2938 2591 2744 2837 \nQ 2550 3084 2163 3084 \nQ 1697 3084 1428 2787 \nQ 1159 2491 1159 1978 \nL 1159 0 \nL 581 0 \nL 581 3500 \nL 1159 3500 \nL 1159 2956 \nQ 1366 3272 1645 3428 \nQ 1925 3584 2291 3584 \nQ 2894 3584 3203 3211 \nQ 3513 2838 3513 2113 \nz\n\" transform=\"scale(0.015625)\"/>\n       <path id=\"DejaVuSans-72\" d=\"M 2631 2963 \nQ 2534 3019 2420 3045 \nQ 2306 3072 2169 3072 \nQ 1681 3072 1420 2755 \nQ 1159 2438 1159 1844 \nL 1159 0 \nL 581 0 \nL 581 3500 \nL 1159 3500 \nL 1159 2956 \nQ 1341 3275 1631 3429 \nQ 1922 3584 2338 3584 \nQ 2397 3584 2469 3576 \nQ 2541 3569 2628 3553 \nL 2631 2963 \nz\n\" transform=\"scale(0.015625)\"/>\n       <path id=\"DejaVuSans-61\" d=\"M 2194 1759 \nQ 1497 1759 1228 1600 \nQ 959 1441 959 1056 \nQ 959 750 1161 570 \nQ 1363 391 1709 391 \nQ 2188 391 2477 730 \nQ 2766 1069 2766 1631 \nL 2766 1759 \nL 2194 1759 \nz\nM 3341 1997 \nL 3341 0 \nL 2766 0 \nL 2766 531 \nQ 2569 213 2275 61 \nQ 1981 -91 1556 -91 \nQ 1019 -91 701 211 \nQ 384 513 384 1019 \nQ 384 1609 779 1909 \nQ 1175 2209 1959 2209 \nL 2766 2209 \nL 2766 2266 \nQ 2766 2663 2505 2880 \nQ 2244 3097 1772 3097 \nQ 1472 3097 1187 3025 \nQ 903 2953 641 2809 \nL 641 3341 \nQ 956 3463 1253 3523 \nQ 1550 3584 1831 3584 \nQ 2591 3584 2966 3190 \nQ 3341 2797 3341 1997 \nz\n\" transform=\"scale(0.015625)\"/>\n       <path id=\"DejaVuSans-74\" d=\"M 1172 4494 \nL 1172 3500 \nL 2356 3500 \nL 2356 3053 \nL 1172 3053 \nL 1172 1153 \nQ 1172 725 1289 603 \nQ 1406 481 1766 481 \nL 2356 481 \nL 2356 0 \nL 1766 0 \nQ 1100 0 847 248 \nQ 594 497 594 1153 \nL 594 3053 \nL 172 3053 \nL 172 3500 \nL 594 3500 \nL 594 4494 \nL 1172 4494 \nz\n\" transform=\"scale(0.015625)\"/>\n       <path id=\"DejaVuSans-64\" d=\"M 2906 2969 \nL 2906 4863 \nL 3481 4863 \nL 3481 0 \nL 2906 0 \nL 2906 525 \nQ 2725 213 2448 61 \nQ 2172 -91 1784 -91 \nQ 1150 -91 751 415 \nQ 353 922 353 1747 \nQ 353 2572 751 3078 \nQ 1150 3584 1784 3584 \nQ 2172 3584 2448 3432 \nQ 2725 3281 2906 2969 \nz\nM 947 1747 \nQ 947 1113 1208 752 \nQ 1469 391 1925 391 \nQ 2381 391 2643 752 \nQ 2906 1113 2906 1747 \nQ 2906 2381 2643 2742 \nQ 2381 3103 1925 3103 \nQ 1469 3103 1208 2742 \nQ 947 2381 947 1747 \nz\n\" transform=\"scale(0.015625)\"/>\n      </defs>\n      <use xlink:href=\"#DejaVuSans-47\"/>\n      <use xlink:href=\"#DejaVuSans-65\" x=\"77.490234\"/>\n      <use xlink:href=\"#DejaVuSans-6e\" x=\"139.013672\"/>\n      <use xlink:href=\"#DejaVuSans-65\" x=\"202.392578\"/>\n      <use xlink:href=\"#DejaVuSans-72\" x=\"263.916016\"/>\n      <use xlink:href=\"#DejaVuSans-61\" x=\"305.029297\"/>\n      <use xlink:href=\"#DejaVuSans-74\" x=\"366.308594\"/>\n      <use xlink:href=\"#DejaVuSans-65\" x=\"405.517578\"/>\n      <use xlink:href=\"#DejaVuSans-64\" x=\"467.041016\"/>\n     </g>\n    </g>\n    <g id=\"PathCollection_4\">\n     <g>\n      <use xlink:href=\"#mded935e8cf\" x=\"47.942188\" y=\"35.851562\" style=\"fill: #ff7f0e; stroke: #ff7f0e\"/>\n     </g>\n    </g>\n    <g id=\"text_15\">\n     <!-- Real -->\n     <g transform=\"translate(65.942188 38.476562) scale(0.1 -0.1)\">\n      <defs>\n       <path id=\"DejaVuSans-52\" d=\"M 2841 2188 \nQ 3044 2119 3236 1894 \nQ 3428 1669 3622 1275 \nL 4263 0 \nL 3584 0 \nL 2988 1197 \nQ 2756 1666 2539 1819 \nQ 2322 1972 1947 1972 \nL 1259 1972 \nL 1259 0 \nL 628 0 \nL 628 4666 \nL 2053 4666 \nQ 2853 4666 3247 4331 \nQ 3641 3997 3641 3322 \nQ 3641 2881 3436 2590 \nQ 3231 2300 2841 2188 \nz\nM 1259 4147 \nL 1259 2491 \nL 2053 2491 \nQ 2509 2491 2742 2702 \nQ 2975 2913 2975 3322 \nQ 2975 3731 2742 3939 \nQ 2509 4147 2053 4147 \nL 1259 4147 \nz\n\" transform=\"scale(0.015625)\"/>\n       <path id=\"DejaVuSans-6c\" d=\"M 603 4863 \nL 1178 4863 \nL 1178 0 \nL 603 0 \nL 603 4863 \nz\n\" transform=\"scale(0.015625)\"/>\n      </defs>\n      <use xlink:href=\"#DejaVuSans-52\"/>\n      <use xlink:href=\"#DejaVuSans-65\" x=\"64.982422\"/>\n      <use xlink:href=\"#DejaVuSans-61\" x=\"126.505859\"/>\n      <use xlink:href=\"#DejaVuSans-6c\" x=\"187.785156\"/>\n     </g>\n    </g>\n   </g>\n  </g>\n </g>\n <defs>\n  <clipPath id=\"pd842eb59cd\">\n   <rect x=\"28.942188\" y=\"7.2\" width=\"357.12\" height=\"266.112\"/>\n  </clipPath>\n </defs>\n</svg>\n"
          },
          "metadata": {}
        }
      ]
    },
    {
      "cell_type": "code",
      "source": [],
      "metadata": {
        "id": "iVyQMhOHLc3h"
      },
      "execution_count": null,
      "outputs": []
    }
  ]
}